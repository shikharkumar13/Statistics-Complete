{
 "cells": [
  {
   "cell_type": "markdown",
   "id": "9920d6ad",
   "metadata": {},
   "source": [
    "## Hypothesis Testing\n",
    "\n",
    "Hypothesis testing is a statistical method used in various industries to make decisions or draw conclusions about a population based on sample data. Here are several industry-based examples of hypothesis testing:\n",
    "\n",
    "**1.Pharmaceuticals: Drug Efficacy**\n",
    "\n",
    "**Scenario:** A pharmaceutical company develops a new drug to treat a specific medical condition and wants to determine if the drug is more effective than the existing treatment.\n",
    "Hypothesis:\n",
    "- `Null Hypothesis (H0):` The new drug is equally effective as the existing treatment.\n",
    "- `Alternative Hypothesis (H1):` The new drug is more effective than the existing treatment.\n",
    "\n",
    "**Test:** A clinical trial is conducted, and statistical tests are performed to analyze the data and determine if there is enough evidence to reject the null hypothesis in favor of the alternative.\n",
    "\n",
    "**2.Finance: Investment Strategy**\n",
    "\n",
    "**Scenario:** A financial analyst proposes a new investment strategy that claims to outperform the current market average.\n",
    "Hypothesis:\n",
    "- **Null Hypothesis (H0):** The new investment strategy does not outperform the market average.\n",
    "- **Alternative Hypothesis (H1):** The new investment strategy outperforms the market average.\n",
    "\n",
    "**Test:** Historical data is collected and analyzed using statistical tests to assess whether the returns from the proposed strategy are significantly different from the market average.\n",
    "\n",
    "**3.Manufacturing: Production Process Improvement**\n",
    "\n",
    "**Scenario:** A manufacturing plant implements changes to its production process with the goal of reducing defects in the final product.\n",
    "Hypothesis:\n",
    "- **Null Hypothesis (H0):** The changes to the production process do not reduce defects.\n",
    "- **Alternative Hypothesis (H1):** The changes to the production process reduce defects.\n",
    "\n",
    "**Test:** Data on defect rates before and after the changes are collected, and statistical tests are performed to determine if there is a significant improvement.\n",
    "\n",
    "In each of these examples, hypothesis testing provides a structured approach to assess claims or changes within different industries, helping decision-makers make informed choices based on statistical evidence."
   ]
  },
  {
   "cell_type": "markdown",
   "id": "6faf83d2",
   "metadata": {},
   "source": [
    "---"
   ]
  },
  {
   "cell_type": "markdown",
   "id": "059a4cdb",
   "metadata": {},
   "source": [
    "Hypothesis Testing starts with the formulation of these two hypotheses:\n",
    "\n",
    "**Null hypothesis (H₀)**:  There is no significant difference between the observed sample and the general population or between two samples.\n",
    "\n",
    "**Alternate hypothesis (H₁)**: Claims there is some statistical significance between two variables."
   ]
  },
  {
   "cell_type": "markdown",
   "id": "12c41b71",
   "metadata": {},
   "source": [
    "Defining the hypothesis is often complicated so we can follow these rules to correctly formulate both the hypotheses.\n",
    " \n",
    "The null hypothesis always has the following signs:  `=  OR   ≤   OR    ≥`\n",
    "\n",
    "The alternate hypothesis always has the following signs:  `≠   OR  >   OR    <`"
   ]
  },
  {
   "cell_type": "markdown",
   "id": "76236dc1",
   "metadata": {},
   "source": [
    "**Example 1**:  Zomato claimed that its total valuation in December 2023 was at least $500 million. Here, the claim contains ≥ sign (i.e. the at least sign), so the null hypothesis is the original claim.\n",
    "\n",
    "**Example 2**:  Zomato claimed that its total valuation in December 2023 was greater than $500 million. Here, the claim contains > sign (i.e. the ‘more than’ sign), so the null hypothesis is the complement of the original claim. "
   ]
  },
  {
   "cell_type": "markdown",
   "id": "3d248b8a",
   "metadata": {},
   "source": [
    "## Making a Decision\n",
    "\n",
    "Once you have formulated the null and alternate hypotheses, we have to decide to either reject or fail to reject the null hypothesis.\n",
    "\n",
    "Let's say Maruti has to buy tires for it's cars from a tire manufacturer. The tire manufacture claims that life of their tire is 36 months. Now we have to find out whether they are correct or not.\n",
    "\n",
    "- Null hypothesis (H₀) : Life of tire = 36 months\n",
    "- Alternate hypothesis (H₁) : Life of tire != 36 months\n",
    "\n",
    "Now Maruti tests 100 tires and the average comes to be 32 months. So do we accept their claim or reject it. If average comes 28 months then what?\n",
    "\n",
    "For this case we define critical region. Upper and lower critical region. If the average is less than lower critical value and more than upper critical value then we reject the null hypothesis."
   ]
  },
  {
   "cell_type": "markdown",
   "id": "ef985148",
   "metadata": {},
   "source": [
    "The formulation of the null and alternate hypotheses determines the type of the test and the position of the critical regions in the normal distribution.\n",
    "\n",
    "You can tell the type of the test and the position of the critical region on the basis of the ‘sign’ in the alternate hypothesis.\n",
    "\n",
    "       ≠ in H₁    →   Two-tailed test        →     Rejection region on both sides of distribution\n",
    "       < in H₁    →   Lower-tailed test     →     Rejection region on left side of distribution\n",
    "       > in H₁    →   Upper-tailed test     →     Rejection region on right side of distribution"
   ]
  },
  {
   "cell_type": "markdown",
   "id": "1e09a919",
   "metadata": {},
   "source": [
    "### Steps to perform Hyposthesis Testing: "
   ]
  },
  {
   "cell_type": "markdown",
   "id": "0329050a",
   "metadata": {},
   "source": [
    "1. **Formulate the Hypotheses**\n",
    "The first step is to clearly define the null hypothesis (H₀) and the alternative hypothesis (H₁). \n",
    "    - `Null Hypothesis (H₀)`: There is no significant difference between the observed sample and the general population or between two samples.\n",
    "    - `Alternative Hypothesis (H₁)`: There is a significant difference or effect that is not due to chance alone.\n",
    "\n",
    "\n",
    "2. **Select the Significance Level (α)**\n",
    "The significance level (α) is the probability of rejecting the null hypothesis when it is actually true (Type I error). Commonly used α levels are 0.05 (5%) or 0.01 (1%).\n",
    "\n",
    "\n",
    "3. **Collect and Analyze Data**\n",
    "Data collection can be done through random sampling or experimental design. The data must be relevant to the hypotheses and collected in a way that minimizes bias. Once collected, the data is analyzed to summarize its main characteristics, often through descriptive statistics or visualizations.\n",
    "\n",
    "\n",
    "\n",
    "4. **Calculate the Test Statistic**\n",
    "The test statistic is a numerical value calculated from the sample data that, under the null hypothesis, follows a known distribution. The choice of test statistic depends on the nature of the data and the hypothesis being tested. Common tests include t-tests, z-tests, chi-square tests, and ANOVA, among others.\n",
    "\n",
    "\n",
    "5. **Determine the Critical Region or Calculate the P-value**\n",
    "    - `Critical Region`: This approach involves comparing the test statistic to critical values that define regions where the null hypothesis would be rejected. The critical values are determined based on the significance level and the distribution of the test statistic.\n",
    "    - `P-value`: Alternatively, the p-value approach calculates the probability of observing a test statistic as extreme as, or more extreme than, the value calculated from the sample data, assuming the null hypothesis is true. If the p-value is less than or equal to the significance level (α), the null hypothesis is rejected.\n",
    "    - **We prefer using the p-value method over the critical-region method.**\n",
    "\n",
    "6. **Make a Decision**\n",
    "    - If the test statistic falls within the critical region or the p-value is less than or equal to α, reject the null hypothesis in favor of the alternative hypothesis.\n",
    "    - If the test statistic does not fall within the critical region or the p-value is greater than α, do not reject the null hypothesis.\n",
    "\n",
    "\n",
    "7. **Draw Conclusions**\n",
    "Finally, interpret the results in the context of the original research question or business problem. This involves stating whether the findings support the alternative hypothesis and discussing the implications of the results for the problem at hand."
   ]
  },
  {
   "cell_type": "markdown",
   "id": "93411963",
   "metadata": {},
   "source": [
    "### **Z-Test**\n",
    "\n",
    "A z-test is a statistical method used in hypothesis testing to determine if there is a significant difference between sample and population means, or between the means of two samples. It is particularly useful when the population standard deviation is known and the sample size is large (typically greater than 30).\n",
    "\n",
    "`We have mainly two types of z-test:`\n",
    "\n",
    "1. **One-Sample Z-Test:** Used to determine whether the mean of a single sample is different from a known population mean.\n",
    "2. **Two-Sample Z-Test:** Used to compare the means of two independent samples to see if they are significantly different from each other.\n",
    "\n",
    "**Assumptions of Z-Tests**\n",
    "\n",
    "For a z-test to yield valid/correct results, these assumptions must be met:\n",
    "1. **Normal Distribution:** The data should be approximately normally distributed. This assumption is satisfied with large sample sizes due to the central limit theorem.\n",
    "2. **Known Population Standard Deviation:** The standard deviation of the population must be known. If it is unknown, using a `t-test` is more appropriate.\n",
    "3. **Random Sampling:** The sample data should be randomly drawn from the population, ensuring that it is representative of the actual population data.\n",
    "4. **Independence:** The samples must be independent of each other, particularly in two-sample z-tests.\n",
    "5. **Continuous Data:** The z-test is applicable for continuous data, where the variable of interest can take any numeric value."
   ]
  },
  {
   "cell_type": "markdown",
   "id": "bd620611",
   "metadata": {},
   "source": [
    "### One Sample Z-Test Examples"
   ]
  },
  {
   "cell_type": "markdown",
   "id": "20cf9741",
   "metadata": {},
   "source": [
    "**Example statement 1 :** Jeep, a well-known car maker, claims that its car 'Compass' gives a mileage of at least 17 km/litre.\n",
    "\n",
    "- `Null Hypothesis` : μ ≥ 17\n",
    "- `Alternate Hypothesis` : μ < 17"
   ]
  },
  {
   "cell_type": "code",
   "execution_count": null,
   "id": "8dc0323f",
   "metadata": {},
   "outputs": [],
   "source": [
    "from statsmodels.stats.weightstats import ztest\n",
    "import numpy as np\n",
    "\n",
    "mileages = list(np.random.randint(14, 19, size = 50))\n",
    "\n",
    "# Perform one-sample Z-test\n",
    "z_statistic, p_value = ztest(mileages, value=17)\n",
    "\n",
    "# Interpret the results\n",
    "if p_value < 0.05:\n",
    "    print(f\"Z-statistic: {z_statistic:.4f}, p-value: {p_value:.4f}\")\n",
    "    print(\"We have sufficient evidence to reject the null hypothesis.\")\n",
    "else:\n",
    "    print(f\"Z-statistic: {z_statistic:.4f}, p-value: {p_value:.4f}\")\n",
    "    print(\"We do not have sufficient evidence to reject the null hypothesis.\")"
   ]
  },
  {
   "cell_type": "markdown",
   "id": "fbc9734f",
   "metadata": {},
   "source": [
    "**Example 2:** Google claims that its internet browser ‘Chrome’ is the best in the industry, as it has an optimum boot time of only 250 ms, with a standard deviation of 9 ms. Sam, a tech geek, wanted to test the claim of Google. So, he randomly collected boot time data of 165 devices of Chrome and got a sample mean of 247 ms.\n",
    "\n",
    "- Ho: μ = 250, i.e., the mean boot time is 250 ms.\n",
    "- Ha: μ ≠ 250, i.e., the mean boot time is not 250 ms."
   ]
  },
  {
   "cell_type": "markdown",
   "id": "aaa36cc2",
   "metadata": {},
   "source": [
    "#### **Solution using Critical Region/Value method**"
   ]
  },
  {
   "cell_type": "markdown",
   "id": "271e2047",
   "metadata": {},
   "source": [
    "For Z-Test these two conditions should be met: \n",
    "\n",
    "- Condition 1: n >30, which means that the population sample size should be greater than 30 observations.\n",
    "\n",
    "- Condition 2: 𝝈 is known, i.e., the population standard deviation is known.\n",
    "\n",
    "If any of these conditions are not met then `we use t-test`.\n",
    "\n",
    "The next step is to determine the test statistic. A test statistic, in simple terms, is a value that is to be calculated from some given data, which is then used to compare the results arrived at with the tabular values.\n",
    "\n",
    "The test statistic for a normal distribution or a Z-test is defined as:\n",
    "\n",
    "`Z = x−μ / σ/√n`\n",
    "\n",
    "x is the process mean, μ is the population mean, σ is the standard deviation and n is the sample size.\n",
    "\n",
    "Z = (247 - 250)/(9/√165)\n",
    "Z = -4.3\n",
    "\n",
    "We will now test our hypothesis at a 95% confidence level. For a 95% confidence interval, Z critical value = +1.96 and -1.96; these are the upper and lower critical values, respectively. The test statistic value we calculated is -4.3.\n",
    "\n",
    "The region between +1.96 and -1.96 is called the acceptance region, and the region outside it is called the critical region.\n",
    "\n",
    "If the calculated Z-statistic is in the region of acceptance, you fail to reject the null hypothesis. If the calculated Z-statistic lies outside the region of acceptance, i.e., in the critical region, you reject the null hypothesis.\n",
    "\n",
    "In our case, the test statistic value is -4.3, which lies outside the region of acceptance of ±1.96. So, you reject the null hypothesis."
   ]
  },
  {
   "cell_type": "markdown",
   "id": "0067a1f1",
   "metadata": {},
   "source": [
    "#### **Solution of Example 2 using p_value method which is very easy and straightforward.**"
   ]
  },
  {
   "cell_type": "code",
   "execution_count": 5,
   "id": "5e7cff1f",
   "metadata": {},
   "outputs": [
    {
     "name": "stdout",
     "output_type": "stream",
     "text": [
      "Z-statistic: -3.8851, p-value: 0.0001\n",
      "We have sufficient evidence to reject the null hypothesis.\n",
      "The mean boot time is 250ms.\n"
     ]
    }
   ],
   "source": [
    "from statsmodels.stats.weightstats import ztest\n",
    "import numpy as np\n",
    "\n",
    "boot_times = list(np.random.randint(180, 300, size = 165))  #generating a list of 165 random integers between 180 and 300\n",
    "\n",
    "# Perform one-sample Z-test\n",
    "z_statistic, p_value = ztest(boot_times, value=250)   #here the value parameter is the population mean\n",
    "\n",
    "# Interpret the results\n",
    "if p_value < 0.05:\n",
    "    print(f\"Z-statistic: {z_statistic:.4f}, p-value: {p_value:.4f}\")\n",
    "    print(\"We have sufficient evidence to reject the null hypothesis.\")\n",
    "else:\n",
    "    print(f\"Z-statistic: {z_statistic:.4f}, p-value: {p_value:.4f}\")\n",
    "    print(\"We do not have sufficient evidence to reject the null hypothesis.\")"
   ]
  },
  {
   "cell_type": "markdown",
   "id": "3411e156",
   "metadata": {},
   "source": [
    "**Note:** The code in above cell in not complete because while performing Z-test we should know the population standard deviation and utilize it in the code of z-test. So let's add that part of using population standard deviation and make it complete."
   ]
  },
  {
   "cell_type": "code",
   "execution_count": null,
   "id": "d4f0614a",
   "metadata": {},
   "outputs": [],
   "source": [
    "from statsmodels.stats.weightstats import ztest\n",
    "import numpy as np\n",
    "\n",
    "boot_times = list(np.random.randint(180, 300, size = 165))  #generating a list of 165 random integers between 180 and 300\n",
    "\n",
    "population_mean = 250\n",
    "pop_std_dev = 9\n",
    "\n",
    "standardized_boot_times = [(x - population_mean) / pop_std_dev for x in boot_times]\n",
    "\n",
    "# Perform one-sample Z-test\n",
    "z_statistic, p_value = ztest(standardized_boot_times, value=0)  #here value = 250 but after standardization we always write value = 0\n",
    "\n",
    "# Interpret the results\n",
    "if p_value < 0.05:\n",
    "    print(f\"Z-statistic: {z_statistic:.4f}, p-value: {p_value:.4f}\")\n",
    "    print(\"We have sufficient evidence to reject the null hypothesis.\")\n",
    "else:\n",
    "    print(f\"Z-statistic: {z_statistic:.4f}, p-value: {p_value:.4f}\")\n",
    "    print(\"We do not have sufficient evidence to reject the null hypothesis.\")"
   ]
  },
  {
   "cell_type": "markdown",
   "id": "81d905d7",
   "metadata": {},
   "source": [
    "### **Two Sample Z-test Example**\n",
    "\n",
    "**Problem Statement**\n",
    "\n",
    "A company wants to compare the average time spent on their website by users from two different countries, Country A and Country B. They have collected data from a sample of users from each country. The population standard deviations for the time spent on the website are known to be 5 minutes for Country A and 6 minutes for Country B. The company wants to determine if there is a significant difference in the average time spent on the website between the two countries.\n",
    "\n",
    "**Hypothesis Statements:** \n",
    "\n",
    "- Null Hypothesis ($H_0$): There is no significant difference in the average time spent on the website between users from Country A and Country B. ($\\mu_A = \\mu_B$)\n",
    "- Alternative Hypothesis ($H_1$): There is a significant difference in the average time spent on the website between users from Country A and Country B. ($\\mu_A \\neq \\mu_B$)"
   ]
  },
  {
   "cell_type": "code",
   "execution_count": null,
   "id": "ae85d080",
   "metadata": {},
   "outputs": [],
   "source": [
    "import numpy as np\n",
    "from statsmodels.stats.weightstats import ztest\n",
    "\n",
    "# Sample data\n",
    "country_A_times = np.random.normal(loc=30, scale=5, size=100)  # Mean 30 minutes, std dev 5\n",
    "country_B_times = np.random.normal(loc=32, scale=6, size=100)  # Mean 32 minutes, std dev 6\n",
    "\n",
    "# Perform two-sample Z-test\n",
    "z_statistic, p_value = ztest(country_A_times, country_B_times, value=0)\n",
    "\n",
    "# Interpret the results\n",
    "alpha = 0.05   #represents significance level : 5%\n",
    "if p_value < alpha:\n",
    "    print(f\"Z-statistic: {z_statistic:.4f}, p-value: {p_value:.4f}\")\n",
    "    print(\"We have sufficient evidence to reject the null hypothesis.\")\n",
    "    print(\"There is a significant difference in the average time spent on the website between the two countries.\")\n",
    "else:\n",
    "    print(f\"Z-statistic: {z_statistic:.4f}, p-value: {p_value:.4f}\")\n",
    "    print(\"We do not have sufficient evidence to reject the null hypothesis.\")\n",
    "    print(\"There is no significant difference in the average time spent on the website between the two countries.\")"
   ]
  },
  {
   "cell_type": "markdown",
   "id": "0354fc14",
   "metadata": {},
   "source": [
    "### T-test\n",
    "\n",
    "The t-distribution is kind of a normal distribution; it is also symmetric and single peaked but less concentrated around its peak. In layman’s terms, a t-distribution is shorter and flatter around the centre than a normal distribution. It is used to study the mean of a population that has a distribution fairly close to a normal distribution (but not an exact normal distribution).\n",
    "\n",
    "**Two simple conditions to determine when to use the t-statistic are as follows:**\n",
    "\n",
    "- The population standard deviation is unknown.\n",
    "- The sample size is less than 30.\n",
    "\n",
    "Even if one of them is applicable in a situation, you can comfortably go for a t-test. The formula to determine the t-statistic is:\n",
    "\n",
    "                            t = x–μ / s/√n\n"
   ]
  },
  {
   "cell_type": "markdown",
   "id": "4d2f11a4",
   "metadata": {},
   "source": [
    "The company claims that their new algorithm can process a specific dataset in an average of 20 minutes, which is faster than the current average processing time of 22 minutes using the standard algorithm. To validate this claim, a data scientist decides to conduct a t-test.\n",
    "The data scientist collects a sample of processing times using the new algorithm. The sample consists of 10 processing times (in minutes):\n",
    "\n",
    "Sample Data : 19,18,21,20,19,22,18,17,21,20\n",
    "\n",
    "The data scientist wants to test if the new algorithm significantly reduces the processing time compared to the standard average of 22 minutes. The hypothesis for the t-test would be set up as follows:\n",
    "- `Null Hypothesis (H₀)`: The mean processing time using the new algorithm is equal to or greater than 22 minutes. (μ≥22)\n",
    "- `Alternative Hypothesis (H₁)`: The mean processing time using the new algorithm is less than 22 minutes. (μ<22)"
   ]
  },
  {
   "cell_type": "markdown",
   "id": "0949d9b4",
   "metadata": {},
   "source": [
    "#### **One-Sample t-test**"
   ]
  },
  {
   "cell_type": "code",
   "execution_count": 1,
   "id": "8d474f50",
   "metadata": {},
   "outputs": [],
   "source": [
    "from scipy.stats import ttest_1samp\n",
    "\n",
    "global_average_score = 22\n",
    "sample_scores = [19,18,21,20,19,22,18,17,21,20]\n",
    "\n",
    "t_stat, p_value = ttest_1samp(sample_scores, global_average_score)"
   ]
  },
  {
   "cell_type": "code",
   "execution_count": 2,
   "id": "41924506",
   "metadata": {},
   "outputs": [
    {
     "data": {
      "text/plain": [
       "0.0007389679098032424"
      ]
     },
     "execution_count": 2,
     "metadata": {},
     "output_type": "execute_result"
    }
   ],
   "source": [
    "p_value"
   ]
  },
  {
   "cell_type": "markdown",
   "id": "b667666c",
   "metadata": {},
   "source": [
    "The result of the t-test indicates that there is significant evidence to conclude that the new algorithm reduces the processing time for processing the datasets compared to the standard processing time of 22 minutes. Therefore, we can confidently claim that the new algorithm is more efficient."
   ]
  },
  {
   "cell_type": "markdown",
   "id": "ff520f91",
   "metadata": {},
   "source": [
    "#### **Two-Sample t-test**\n",
    "\n",
    "A two-sample t-test is often used to determine if there is a significant difference between the means of two groups. Let's consider a scenario where a company wants to test if a new training program improves employee productivity. The productivity scores (measured in units of work completed per day) of employees who underwent the training are compared to those who did not.\n",
    "\n",
    "**Hypothesis**\n",
    "- Null Hypothesis (): There is no difference in productivity between trained and untrained employees. \n",
    "- Alternative Hypothesis (): There is a difference in productivity between trained and untrained employees."
   ]
  },
  {
   "cell_type": "code",
   "execution_count": null,
   "id": "dcfd1c2d",
   "metadata": {},
   "outputs": [],
   "source": [
    "import numpy as np\n",
    "from scipy.stats import ttest_ind\n",
    "\n",
    "# Generating synthetic productivity data for trained employees\n",
    "np.random.seed(0)  # for reproducibility of the random values being generate by the following random.normal functions\n",
    "trained_productivity = np.random.normal(loc=80, scale=10, size=40)  # Mean 80, std dev 10\n",
    "\n",
    "# Generating synthetic productivity data for untrained employees\n",
    "untrained_productivity = np.random.normal(loc=75, scale=10, size=40)  # Mean 75, std dev 10\n",
    "\n",
    "# Performing a two-sample t-test on the productivity data\n",
    "t_statistic, p_value = ttest_ind(trained_productivity, untrained_productivity, equal_var = False)\n",
    "\n",
    "# Interpret the results\n",
    "alpha = 0.05\n",
    "if p_value < alpha:\n",
    "    print(f\"T-statistic: {t_statistic:.4f}, p-value: {p_value:.4f}\")\n",
    "    print(\"We have sufficient evidence to reject the null hypothesis.\")\n",
    "    print(\"There is a significant difference in productivity between trained and untrained employees.\")\n",
    "else:\n",
    "    print(f\"T-statistic: {t_statistic:.4f}, p-value: {p_value:.4f}\")\n",
    "    print(\"We do not have sufficient evidence to reject the null hypothesis.\")\n",
    "    print(\"There is no significant difference in productivity between trained and untrained employees.\")"
   ]
  },
  {
   "cell_type": "markdown",
   "id": "6e3fe224",
   "metadata": {},
   "source": [
    "This Python code uses the ttest_ind function from the scipy.stats module to perform a two-sample t-test assuming unequal variances (Welch's t-test). The equal_var=False parameter is set to handle cases where the two groups have different variances."
   ]
  },
  {
   "cell_type": "markdown",
   "id": "68ff03b3",
   "metadata": {},
   "source": [
    "**Problem Statement 2:**\n",
    "\n",
    "A retail company wants to evaluate the effectiveness of two different marketing strategies on sales performance. They implement Strategy A in one region and Strategy B in another region. After a month, they collect sales data from both regions. The company wants to determine if there is a statistically significant difference in the average sales between the two regions.\n",
    "\n",
    "**Hypothesis Statements:**\n",
    "- Null Hypothesis ($H_0$): There is no difference in the average sales between the two marketing strategies. ($\\mu_{\\text{A}} = \\mu_{\\text{B}}$)\n",
    "- Alternative Hypothesis ($H_1$): There is a difference in the average sales between the two marketing strategies. ($\\mu_{\\text{A}} \\neq \\mu_{\\text{B}}$)"
   ]
  },
  {
   "cell_type": "code",
   "execution_count": null,
   "id": "d64aad24",
   "metadata": {},
   "outputs": [],
   "source": [
    "import numpy as np\n",
    "from scipy.stats import ttest_ind\n",
    "\n",
    "# Sample data: sales in thousands of dollars\n",
    "sales_strategy_A = np.random.normal(loc=100, scale=15, size=50)  # Mean 100, std dev 15\n",
    "sales_strategy_B = np.random.normal(loc=110, scale=15, size=50)  # Mean 110, std dev 15\n",
    "\n",
    "# Perform two-sample t-test\n",
    "t_statistic, p_value = ttest_ind(sales_strategy_A, sales_strategy_B)\n",
    "\n",
    "# Interpret the results\n",
    "alpha = 0.05\n",
    "if p_value < alpha:\n",
    "    print(f\"T-statistic: {t_statistic:.4f}, p-value: {p_value:.4f}\")\n",
    "    print(\"We have sufficient evidence to reject the null hypothesis.\")\n",
    "    print(\"There is a significant difference in average sales between the two marketing strategies.\")\n",
    "else:\n",
    "    print(f\"T-statistic: {t_statistic:.4f}, p-value: {p_value:.4f}\")\n",
    "    print(\"We do not have sufficient evidence to reject the null hypothesis.\")\n",
    "    print(\"There is no significant difference in average sales between the two marketing strategies.\")"
   ]
  },
  {
   "cell_type": "markdown",
   "id": "84194c06",
   "metadata": {},
   "source": [
    "#### Another Example of two sample t-test\n",
    "\n",
    "A dataset from a recent health survey that includes information on participants' gender (male or female) and their cholesterol levels (a quantitative variable). The data scientist wants to investigate whether there is a significant difference in the mean cholesterol levels between male and female participants."
   ]
  },
  {
   "cell_type": "code",
   "execution_count": 10,
   "id": "8b842bd1",
   "metadata": {},
   "outputs": [
    {
     "name": "stdout",
     "output_type": "stream",
     "text": [
      "T-statistic: -4.57495710997814\n",
      "P-value: 0.0018139585097282133\n"
     ]
    }
   ],
   "source": [
    "import numpy as np\n",
    "from scipy import stats\n",
    "\n",
    "gender = np.array([\"Male\", \"Female\", \"Female\", \"Male\", \"Female\", \"Male\", \"Male\", \n",
    "                   \"Female\", \"Male\", \"Female\"])\n",
    "\n",
    "cholesterol = np.array([200, 220, 210, 190, 205, 195, 180, 230, 175, 225])\n",
    "\n",
    "# Since the gender array contains categorical data, we need to separate the cholesterol data by gender\n",
    "male_cholesterol = cholesterol[gender == \"Male\"]\n",
    "female_cholesterol = cholesterol[gender == \"Female\"]\n",
    "\n",
    "# Perform the two-sample t-test\n",
    "t_stat, p_value = stats.ttest_ind(male_cholesterol, female_cholesterol)\n",
    "\n",
    "print(f\"T-statistic: {t_stat}\")\n",
    "print(f\"P-value: {p_value}\")"
   ]
  },
  {
   "cell_type": "markdown",
   "id": "12e0b5e4",
   "metadata": {},
   "source": [
    "The `ttest_ind` function is used to compare the means of two independent samples, which in this case are the cholesterol levels of males and females. The gender array is used to filter the cholesterol array into two groups: male_cholesterol and female_cholesterol."
   ]
  },
  {
   "cell_type": "markdown",
   "id": "b075b93f",
   "metadata": {},
   "source": [
    "### Chi-Squared Test\n",
    "\n",
    "A Chi-Squared test is a statistical method used in hypothesis testing to determine if there is a significant difference between observed and expected frequencies in one or more categories. It is particularly useful for analyzing categorical data and is often employed to test relationships between categorical variables.\n",
    "\n",
    "**Chi-squared test of independence**: This is used to determine whether or not there is a significant relationship between two nominal (categorical) variables."
   ]
  },
  {
   "cell_type": "markdown",
   "id": "f213a753",
   "metadata": {},
   "source": [
    "**Problem Statement:**\n",
    "\n",
    "A marketing team at a software company wants to determine if there is a relationship between the type of advertising medium (online, print, television) and software purchases. They collect data from a sample of customers, noting the advertising medium each customer was exposed to and whether they purchased the software.\n",
    "\n",
    "**Hypotheses:**\n",
    "\n",
    "- Null Hypothesis ($H_0$): There is no association between the type of advertising medium and software purchases. The variables are independent.\n",
    "- Alternative Hypothesis ($H_1$): There is an association between the type of advertising medium and software purchases. The variables are not independent."
   ]
  },
  {
   "cell_type": "code",
   "execution_count": null,
   "id": "1e44e825",
   "metadata": {},
   "outputs": [],
   "source": [
    "import numpy as np\n",
    "from scipy.stats import chi2_contingency\n",
    "\n",
    "# Observed frequency data in a contingency table\n",
    "# Rows in the data array represent: Advertising Medium (Online, Print, Television)\n",
    "# Columns in the data array represent: Purchase (Yes, No)\n",
    "data = np.array([[30, 10],  # Online\n",
    "                 [20, 20],  # Print\n",
    "                 [50, 30]]) # Television\n",
    "\n",
    "# Perform Chi-Square Test of Independence\n",
    "chi2_stat, p_value, dof, expected = chi2_contingency(data)\n",
    "\n",
    "# Interpret the results\n",
    "alpha = 0.05\n",
    "if p_value < alpha:\n",
    "    print(f\"Chi-Square Statistic: {chi2_stat:.4f}, p-value: {p_value:.4f}\")\n",
    "    print(\"We have sufficient evidence to reject the null hypothesis.\")\n",
    "    print(\"There is a significant association between the advertising medium and software purchases.\")\n",
    "else:\n",
    "    print(f\"Chi-Square Statistic: {chi2_stat:.4f}, p-value: {p_value:.4f}\")\n",
    "    print(\"We do not have sufficient evidence to reject the null hypothesis.\")\n",
    "    print(\"There is no significant association between the advertising medium and software purchases.\")"
   ]
  },
  {
   "cell_type": "markdown",
   "id": "136a0780",
   "metadata": {},
   "source": [
    "**Problem Statement 2:**\n",
    "A restaurant chain wants to determine if there is an association between the type of cuisine offered (Italian, Chinese, Mexican) and customer satisfaction levels (satisfied, neutral, dissatisfied). They conduct a survey among customers across several locations to collect this data.\n",
    "\n",
    "**Hypotheses:**\n",
    "- Null Hypothesis ($H_0$): There is no association between the type of cuisine and customer satisfaction levels. The variables are independent.\n",
    "- Alternative Hypothesis ($H_1$): There is an association between the type of cuisine and customer satisfaction levels. The variables are not independent."
   ]
  },
  {
   "cell_type": "code",
   "execution_count": null,
   "id": "c29ac39f",
   "metadata": {},
   "outputs": [],
   "source": [
    "import numpy as np\n",
    "from scipy.stats import chi2_contingency\n",
    "\n",
    "# Observed frequency data in a contingency table\n",
    "# Rows: Type of Cuisine (Italian, Chinese, Mexican)\n",
    "# Columns: Customer Satisfaction (Satisfied, Neutral, Dissatisfied)\n",
    "data = np.array([[40, 30, 10],  # Italian\n",
    "                 [35, 25, 20],  # Chinese\n",
    "                 [25, 30, 15]]) # Mexican\n",
    "\n",
    "# Perform Chi-Square Test of Independence\n",
    "chi2_stat, p_value, dof, expected = chi2_contingency(data)\n",
    "\n",
    "# Interpret the results\n",
    "alpha = 0.05\n",
    "if p_value < alpha:\n",
    "    print(f\"Chi-Square Statistic: {chi2_stat:.4f}, p-value: {p_value:.4f}\")\n",
    "    print(\"We have sufficient evidence to reject the null hypothesis.\")\n",
    "    print(\"There is a significant association between the type of cuisine and customer satisfaction levels.\")\n",
    "else:\n",
    "    print(f\"Chi-Square Statistic: {chi2_stat:.4f}, p-value: {p_value:.4f}\")\n",
    "    print(\"We do not have sufficient evidence to reject the null hypothesis.\")\n",
    "    print(\"There is no significant association between the type of cuisine and customer satisfaction levels.\")"
   ]
  },
  {
   "cell_type": "markdown",
   "id": "8a2c0854",
   "metadata": {},
   "source": [
    "Finally, a Chi-Square test evaluates whether the observed contingency table is significantly different from the table that would be expected if there were no association between the variables."
   ]
  },
  {
   "cell_type": "markdown",
   "id": "87968691",
   "metadata": {},
   "source": [
    "### **ANOVA (Analysis of Variance)**\n",
    "\n",
    "Analysis of Variance (ANOVA) is a statistical method used to compare the means of three or more groups to determine if there are any statistically significant differences between them. It helps to identify whether the observed differences among group means are due to actual differences or random chance.\n",
    "`ANOVA uses F-tests` to statistically test the equality of means.\n",
    "\n",
    "Two sample t-tests can validate a hypothesis containing only two groups at a time. For samples involving three or more groups, the t-test becomes tedious, as you have to perform the tests for each combination of the groups. Also, the `possibility of a type-1 error increases` in this process."
   ]
  },
  {
   "cell_type": "markdown",
   "id": "7ec74c9e",
   "metadata": {},
   "source": [
    "**One-Way ANOVA**\n",
    "\n",
    "A One-Way ANOVA is used to determine whether there are statistically significant differences between the means of three or more independent groups. For the results of a One-Way ANOVA to be valid, certain assumptions must be met:\n",
    "1. `Independence of Observations:` The observations in each group must be independent of each other. This means that the data collected from one group should not influence the data collected from another group.\n",
    "2. `Normality:` The data within each group should be approximately normally distributed. This assumption is particularly important when the sample sizes are small, as ANOVA is robust to deviations from normality with larger sample sizes.\n",
    "3. `Homogeneity of Variances:` The variances among the different groups should be approximately equal. This can be tested using **Levene's test for homogeneity of variances**.\n",
    "4. `Continuous Dependent Variable:` The dependent variable should be measured on a continuous scale."
   ]
  },
  {
   "cell_type": "markdown",
   "id": "fc43bbea",
   "metadata": {},
   "source": [
    "**Problem Statement:** A researcher wants to investigate whether different diets lead to different weight loss outcomes. Three different diet plans (Diet A, Diet B, and Diet C) are tested on groups of participants, and the weight loss (in kilograms) is recorded after a month. The researcher wants to determine if there is a significant difference in mean weight loss among the three diet plans.\n",
    "\n",
    "**Hypotheses:**\n",
    "- Null Hypothesis ($H_0$): There is no difference in the mean weight loss among the three diet plans. ($\\mu_A = \\mu_B = \\mu_C$)\n",
    "- Alternative Hypothesis ($H_1$): At least one diet plan has a different mean weight loss compared to the others."
   ]
  },
  {
   "cell_type": "code",
   "execution_count": null,
   "id": "0142d89e",
   "metadata": {},
   "outputs": [],
   "source": [
    "import numpy as np\n",
    "from scipy.stats import f_oneway, levene\n",
    "\n",
    "# Sample data: weight loss for each diet plan\n",
    "diet_A_loss = np.random.normal(loc=5, scale=1.5, size=30)  # Mean 5 kg, std dev 1.5\n",
    "diet_B_loss = np.random.normal(loc=6, scale=1.5, size=30)  # Mean 6 kg, std dev 1.5\n",
    "diet_C_loss = np.random.normal(loc=4.5, scale=1.5, size=30)  # Mean 4.5 kg, std dev 1.5\n",
    "\n",
    "# Perform Levene's Test for equal variances\n",
    "levene_stat, levene_p_value = levene(diet_A_loss, diet_B_loss, diet_C_loss)\n",
    "\n",
    "# Interpret Levene's Test results\n",
    "alpha = 0.05\n",
    "if levene_p_value < alpha:\n",
    "    print(f\"Levene's Test p-value: {levene_p_value:.4f}\")\n",
    "    print(\"The variances are significantly different. Consider using a different test for ANOVA.\")\n",
    "else:\n",
    "    print(f\"Levene's Test p-value: {levene_p_value:.4f}\")\n",
    "    print(\"The variances are not significantly different. Proceeding with ANOVA.\")\n",
    "\n",
    "# Perform One-Way ANOVA\n",
    "anova_stat, anova_p_value = f_oneway(diet_A_loss, diet_B_loss, diet_C_loss)\n",
    "\n",
    "# Interpret ANOVA results\n",
    "if anova_p_value < alpha:\n",
    "    print(f\"ANOVA p-value: {anova_p_value:.4f}\")\n",
    "    print(\"We have sufficient evidence to reject the null hypothesis.\")\n",
    "    print(\"There is a significant difference in mean weight loss among the diet plans.\")\n",
    "else:\n",
    "    print(f\"ANOVA p-value: {anova_p_value:.4f}\")\n",
    "    print(\"We do not have sufficient evidence to reject the null hypothesis.\")\n",
    "    print(\"There is no significant difference in mean weight loss among the diet plans.\")"
   ]
  },
  {
   "cell_type": "markdown",
   "id": "a8761f79",
   "metadata": {},
   "source": [
    "---"
   ]
  },
  {
   "cell_type": "markdown",
   "id": "ee730f7f",
   "metadata": {},
   "source": [
    "The `f_oneway` calculates the `F-value and the P-value`. The `F-value is the test statistic`, and the P-value tells us whether the observed differences in means across the groups are statistically significant.\n",
    "\n",
    "Remember, ANOVA tells us if `there's at least one significant difference` but doesn't specify where it is. If the test is significant, you would typically `follow up with post-hoc tests` to find out which specific groups differ from each other."
   ]
  },
  {
   "cell_type": "markdown",
   "id": "1698e100",
   "metadata": {},
   "source": [
    "#### Two-Way ANOVA\n",
    "\n",
    "Two-Way ANOVA is used when there are two independent variables. It tests the effect of each independent variable on the dependent variable and also examines the interaction effect between the two independent variables.\n",
    "\n",
    "**Scenario**\n",
    "\n",
    "Suppose a financial analyst wants to study the effect of two factors: investment strategy (Strategy A, Strategy B) and market condition (Bull, Bear) on the return on investment (ROI). The independent variables are the investment strategy and market condition, and the dependent variable is the ROI."
   ]
  },
  {
   "cell_type": "code",
   "execution_count": 5,
   "id": "931c3c3c",
   "metadata": {},
   "outputs": [
    {
     "name": "stdout",
     "output_type": "stream",
     "text": [
      "                       sum_sq   df          F    PR(>F)\n",
      "C(Strategy)            15.125  1.0  17.285714  0.014173\n",
      "C(Market)              36.125  1.0  41.285714  0.003016\n",
      "C(Strategy):C(Market)   1.125  1.0   1.285714  0.320188\n",
      "Residual                3.500  4.0        NaN       NaN\n"
     ]
    }
   ],
   "source": [
    "import pandas as pd\n",
    "import statsmodels.api as sm\n",
    "from statsmodels.formula.api import ols\n",
    "\n",
    "# Sample data\n",
    "data = {\n",
    "    'Strategy': ['A', 'A', 'A', 'A', 'B', 'B', 'B', 'B'],\n",
    "    'Market': ['Bull', 'Bull', 'Bear', 'Bear', 'Bull', 'Bull', 'Bear', 'Bear'],\n",
    "    'ROI': [10, 12, 8, 7, 15, 14, 9, 10]\n",
    "}\n",
    "\n",
    "df = pd.DataFrame(data)\n",
    "\n",
    "# Perform Two-Way ANOVA\n",
    "model = ols('ROI ~ C(Strategy) + C(Market) + C(Strategy):C(Market)', data=df).fit()\n",
    "anova_table = sm.stats.anova_lm(model, typ=2)\n",
    "\n",
    "print(anova_table)"
   ]
  },
  {
   "cell_type": "markdown",
   "id": "dc8937db",
   "metadata": {},
   "source": [
    "#### ANOVA and Tukey’s range test\n",
    "\n",
    "When the categorical variable has three or more categories, an ANOVA can be used to see if there is a significant difference between any of the groups. Then, if at least one pair of groups are significantly different, Tukey’s range test can be used to determine which groups are different. This is better than running multiple two-sample t-tests because it leads to a lower probability of making a type I error.\n",
    "\n",
    "For example, if we want to compare the heights of three different tree species, in order to test the hypothesis that average tree heights vary by species, we can use an ANOVA. Then, if the p-value from the ANOVA is below our significance threshold, we can run Tukey’s range test to determine which tree species have significantly different heights."
   ]
  },
  {
   "cell_type": "code",
   "execution_count": 6,
   "id": "ce3adc2a",
   "metadata": {},
   "outputs": [
    {
     "name": "stdout",
     "output_type": "stream",
     "text": [
      "ANOVA Table:\n",
      "                          sum_sq   df          F    PR(>F)\n",
      "C(Strategy)            72.166667  2.0  36.083333  0.000452\n",
      "C(Market)              85.333333  1.0  85.333333  0.000091\n",
      "C(Strategy):C(Market)   8.166667  2.0   4.083333  0.075972\n",
      "Residual                6.000000  6.0        NaN       NaN\n",
      "\n",
      "Tukey's HSD Test Results:\n",
      "Multiple Comparison of Means - Tukey HSD, FWER=0.05 \n",
      "====================================================\n",
      "group1 group2 meandiff p-adj   lower   upper  reject\n",
      "----------------------------------------------------\n",
      "     A      B     2.75 0.4989 -3.8143  9.3143  False\n",
      "     A      C      6.0 0.0726 -0.5643 12.5643  False\n",
      "     B      C     3.25 0.3894 -3.3143  9.8143  False\n",
      "----------------------------------------------------\n"
     ]
    }
   ],
   "source": [
    "import pandas as pd\n",
    "import statsmodels.api as sm\n",
    "from statsmodels.formula.api import ols\n",
    "from statsmodels.stats.multicomp import pairwise_tukeyhsd\n",
    "\n",
    "# Sample data\n",
    "data = {\n",
    "    'Strategy': ['A', 'A', 'A', 'A', 'B', 'B', 'B', 'B', 'C', 'C', 'C', 'C'],\n",
    "    'Market': ['Bull', 'Bull', 'Bear', 'Bear', 'Bull', 'Bull', 'Bear', 'Bear', 'Bull', 'Bull', 'Bear', 'Bear'],\n",
    "    'ROI': [10, 12, 8, 7, 15, 14, 9, 10, 20, 18, 11, 12]\n",
    "}\n",
    "\n",
    "df = pd.DataFrame(data)\n",
    "\n",
    "# Perform Two-Way ANOVA\n",
    "model = ols('ROI ~ C(Strategy) + C(Market) + C(Strategy):C(Market)', data=df).fit()\n",
    "anova_table = sm.stats.anova_lm(model, typ=2)\n",
    "\n",
    "print(\"ANOVA Table:\")\n",
    "print(anova_table)\n",
    "\n",
    "# Perform Tukey's HSD test\n",
    "tukey = pairwise_tukeyhsd(endog=df['ROI'], groups=df['Strategy'], alpha=0.05)\n",
    "print(\"\\nTukey's HSD Test Results:\")\n",
    "print(tukey)"
   ]
  },
  {
   "cell_type": "markdown",
   "id": "8c8d484b",
   "metadata": {},
   "source": [
    "### Binomial Test\n",
    "\n",
    "The Binomial test, also known as the Binomial exact test, is a statistical test used to determine whether the proportion of a binary outcome in a sample is significantly different from a hypothesized value. It is particularly useful when the sample size is small, and the data follows a binomial distribution, which is a distribution where there are only two possible outcomes for each trial, often labeled as \"success\" and \"failure\".\n",
    "\n",
    "The Null Hypothesis typically states that the population proportion of one outcome is equal to a specific hypothesized value, while the Alternative Hypothesis suggests that the population proportion is different from the hypothesized value.\n",
    "\n",
    "It does not produce a test statistic like many other tests; instead, the p-value is calculated directly from the binomial distribution.\n",
    "\n",
    "Can be used to analyze experimental results, such as the effectiveness of a new feature on a website, the success rate of a marketing campaign, or the reliability of a manufacturing process."
   ]
  },
  {
   "cell_type": "markdown",
   "id": "680d2945",
   "metadata": {},
   "source": [
    "**Example:** A website has a conversion rate of 5%. After introducing a new feature, out of 100 visitors, 8 converted.Is the new conversion rate significantly different from the old rate?"
   ]
  },
  {
   "cell_type": "code",
   "execution_count": 13,
   "id": "c6dc08a4",
   "metadata": {},
   "outputs": [
    {
     "name": "stdout",
     "output_type": "stream",
     "text": [
      "The p-value of the binomial test is: BinomTestResult(k=8, n=100, alternative='two-sided', statistic=0.08, pvalue=0.16504168794773402)\n"
     ]
    }
   ],
   "source": [
    "from scipy.stats import binomtest\n",
    "\n",
    "# Number of successes (conversions)\n",
    "k = 8\n",
    "# Number of trials (visitors)\n",
    "n = 100\n",
    "# Hypothesized probability of success (old conversion rate)\n",
    "p = 0.05\n",
    "\n",
    "# Perform the binomial test\n",
    "p_value = binomtest(k, n, p, alternative='two-sided')\n",
    "\n",
    "print(f\"The p-value of the binomial test is: {p_value}\")"
   ]
  },
  {
   "cell_type": "markdown",
   "id": "94c4429c",
   "metadata": {},
   "source": [
    "### How to choose the Hypothesis Test"
   ]
  },
  {
   "cell_type": "markdown",
   "id": "a41ea0b0",
   "metadata": {},
   "source": [
    "**`Frequently used hypothesis tests`**: \n",
    "\n",
    "1. **Z-Test**\n",
    "    - `Use When`: Comparing the mean of a sample to a known population mean when the population variance is known and the sample size is large (n > 30).\n",
    "    - `Example`: Testing if the average height of a sample of students is different from the known average height of the population.\n",
    "\n",
    "---\n",
    "\n",
    "2. **T-Test**\n",
    "    - `One-Sample T-Test`: Compare the sample mean to a known value.\n",
    "    - `Two-Sample T-Test`: Compare the means of two independent samples.\n",
    "    - `Paired T-Test`: Compare means from the same group at different times.\n",
    "    - `Use When`: The population variance is unknown and the sample size is small (n < 30).\n",
    "    - `Example`: Testing if the average test scores of two different classes are significantly different.\n",
    "\n",
    "---\n",
    "\n",
    "3. **ANOVA (Analysis of Variance)**\n",
    "    - `One-Way ANOVA`: Compare means of three or more independent groups.\n",
    "    - `Two-Way ANOVA`: Compare means with two independent variables.\n",
    "    - `Use When`: Comparing the means of three or more groups to see if at least one group mean is different.\n",
    "    - `Example`: Testing if different teaching methods result in different student performance.\n",
    "\n",
    "---\n",
    "\n",
    "4. **Chi-Square Test**\n",
    "    - `Chi-Square Goodness of Fit Test`: Determine if a sample matches a population.\n",
    "    - `Chi-Square Test of Independence`: Determine if two categorical variables are independent.\n",
    "    - `Use When`: Dealing with categorical data to test relationships between variables.\n",
    "    - `Example`: Testing if there is an association between gender and voting preference.\n",
    "\n",
    "---\n",
    "\n",
    "**`Other Tests`**: \n",
    "\n",
    "1. **Mann-Whitney U Test**:\n",
    "    - `Use When`: Comparing differences between two independent groups when the data is not normally distributed.\n",
    "    - `Example`: Testing if the distribution of scores differs between two different teaching methods.\n",
    "\n",
    "---\n",
    "\n",
    "2. **Wilcoxon Signed-Rank Test**:\n",
    "    - `When to use`: Compare the distributions of two related groups (e.g., before and after a treatment).\n",
    "    - `Description`: Tests if the distributions of two related groups are significantly different.\n",
    "    - `Example`: Testing if there is a difference in performance before and after a training program.\n",
    "\n",
    "---\n",
    "\n",
    "3. **Kruskal-Wallis H Test**:\n",
    "    - `When to use`: To test if the distributions of multiple groups are significantly different or Comparing more than two independent groups when the data is not normally distributed.\n",
    "    - `Example`: Testing if there are differences in customer satisfaction scores across multiple stores.\n",
    "\n",
    "---\n",
    "\n",
    "4. **Shapiro-Wilk Test or D'Agostino's K^2 Test or Anderson-Darling Test**:\n",
    "    - `When to use`: Check if the data follows a normal distribution.\n",
    "    - `Description`: Tests if the data is normally distributed.\n",
    "\n",
    "---\n",
    "\n",
    "5. **Augmented Dickey-Fuller Test or Kwiatkowski-Phillips-Schmidt-Shin (KPSS) Test**:\n",
    "    - `When to use`: Check if a time series is stationary.\n",
    "    - `Description`: Tests if a time series is stationary."
   ]
  },
  {
   "cell_type": "markdown",
   "id": "ab5d12c8",
   "metadata": {},
   "source": [
    "### Important Note"
   ]
  },
  {
   "cell_type": "markdown",
   "id": "52411737",
   "metadata": {},
   "source": [
    "Beyond choosing a hypothesis test, it is important to understand whether the data you have meets the assumptions of the test you want to run. Each hypothesis test has a unique set of assumptions, however, there is one assumption that all hypothesis tests share: the data was randomly sampled from the population of interest.\n",
    "\n",
    "This is important because random sampling ensures that the sample is representative of the population in terms of observed (and unobserved) characteristics. Unfortunately, there may be situations where random sampling is impossible, but it is important to understand how this can bias results of a test.\n",
    "\n",
    "For example, let’s return to the example with the yogurt company “The Dairy Culture”. Let’s say the company had multiple factories, but the quality assurance team only collected yogurts from one specific factory. The data is thus not randomly sampled from the entire population that we care about (all factories), and could be biased if the quality of yogurt differs at each one.\n",
    "\n",
    "There can also be ethical issues that arise when a sample is not representative of a population. When developing and testing a vaccine, for example, researchers must make sure to find volunteers from an appropriate proportion of genders, races, age ranges, pre-existing conditions, and so on to test efficacy for the entire population that the vaccine will be used on. If the vaccine manufacturers test on a sample that doesn’t include sufficient data for one race, there is a risk that there could be reduced (if during the initial research phase) or unknown efficacy for that group.\n",
    "\n",
    "It can often be challenging to find a representative sample or even to recognize when there is biased data, but it is essential to think about when designing an experiment."
   ]
  }
 ],
 "metadata": {
  "kernelspec": {
   "display_name": "Python 3 (ipykernel)",
   "language": "python",
   "name": "python3"
  },
  "language_info": {
   "codemirror_mode": {
    "name": "ipython",
    "version": 3
   },
   "file_extension": ".py",
   "mimetype": "text/x-python",
   "name": "python",
   "nbconvert_exporter": "python",
   "pygments_lexer": "ipython3",
   "version": "3.11.7"
  }
 },
 "nbformat": 4,
 "nbformat_minor": 5
}
