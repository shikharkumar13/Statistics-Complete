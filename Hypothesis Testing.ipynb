{
 "cells": [
  {
   "cell_type": "markdown",
   "id": "9920d6ad",
   "metadata": {},
   "source": [
    "## Hypothesis Testing\n",
    "\n",
    "Hypothesis testing is a statistical method used in various industries to make decisions or draw conclusions about a population based on sample data. Here are several industry-based examples of hypothesis testing:\n",
    "\n",
    "**1.Pharmaceuticals: Drug Efficacy**\n",
    "\n",
    "**Scenario:** A pharmaceutical company develops a new drug to treat a specific medical condition and wants to determine if the drug is more effective than the existing treatment.\n",
    "Hypothesis:\n",
    "- `Null Hypothesis (H0):` The new drug is equally effective as the existing treatment.\n",
    "- `Alternative Hypothesis (H1):` The new drug is more effective than the existing treatment.\n",
    "\n",
    "**Test:** A clinical trial is conducted, and statistical tests are performed to analyze the data and determine if there is enough evidence to reject the null hypothesis in favor of the alternative.\n",
    "\n",
    "**2.Finance: Investment Strategy**\n",
    "\n",
    "**Scenario:** A financial analyst proposes a new investment strategy that claims to outperform the current market average.\n",
    "Hypothesis:\n",
    "- **Null Hypothesis (H0):** The new investment strategy does not outperform the market average.\n",
    "- **Alternative Hypothesis (H1):** The new investment strategy outperforms the market average.\n",
    "\n",
    "**Test:** Historical data is collected and analyzed using statistical tests to assess whether the returns from the proposed strategy are significantly different from the market average.\n",
    "\n",
    "**3.Manufacturing: Production Process Improvement**\n",
    "\n",
    "**Scenario:** A manufacturing plant implements changes to its production process with the goal of reducing defects in the final product.\n",
    "Hypothesis:\n",
    "- **Null Hypothesis (H0):** The changes to the production process do not reduce defects.\n",
    "- **Alternative Hypothesis (H1):** The changes to the production process reduce defects.\n",
    "\n",
    "**Test:** Data on defect rates before and after the changes are collected, and statistical tests are performed to determine if there is a significant improvement.\n",
    "\n",
    "In each of these examples, hypothesis testing provides a structured approach to assess claims or changes within different industries, helping decision-makers make informed choices based on statistical evidence."
   ]
  },
  {
   "cell_type": "markdown",
   "id": "059a4cdb",
   "metadata": {},
   "source": [
    "Hypothesis Testing starts with the formulation of these two hypotheses:\n",
    "\n",
    "**Null hypothesis (H₀)**:  There is no significant difference between the observed sample and the general population or between two samples.\n",
    "\n",
    "**Alternate hypothesis (H₁)**: Claims there is some statistical significance between two variables."
   ]
  },
  {
   "cell_type": "markdown",
   "id": "12c41b71",
   "metadata": {},
   "source": [
    "Defining the hypothesis is often complicated so we can follow these rules to correctly formulate both the hypotheses.\n",
    " \n",
    "The null hypothesis always has the following signs:  `=  OR   ≤   OR    ≥`\n",
    "\n",
    "The alternate hypothesis always has the following signs:  `≠   OR  >   OR    <`"
   ]
  },
  {
   "cell_type": "markdown",
   "id": "76236dc1",
   "metadata": {},
   "source": [
    "**Example 1**:  Zomato claimed that its total valuation in December 2023 was at least $500 million. Here, the claim contains ≥ sign (i.e. the at least sign), so the null hypothesis is the original claim.\n",
    "\n",
    "**Example 2**:  Zomato claimed that its total valuation in December 2023 was greater than $500 million. Here, the claim contains > sign (i.e. the ‘more than’ sign), so the null hypothesis is the complement of the original claim. "
   ]
  },
  {
   "cell_type": "markdown",
   "id": "3d248b8a",
   "metadata": {},
   "source": [
    "## Making a Decision\n",
    "\n",
    "Once you have formulated the null and alternate hypotheses, we have to decide to either reject or fail to reject the null hypothesis.\n",
    "\n",
    "Let's say Maruti has to buy tires for it's cars from a tire manufacturer. The tire manufacture claims that life of their tire is 36 months. Now we have to find out whether they are correct or not.\n",
    "\n",
    "- Null hypothesis (H₀) : Life of tire = 36 months\n",
    "- Alternate hypothesis (H₁) : Life of tire != 36 months\n",
    "\n",
    "Now Maruti tests 100 tires and the average comes to be 32 months. So do we accept their claim or reject it. If average comes 28 months then what?\n",
    "\n",
    "For this case we define critical region. Upper and lower critical region. If the average is less than lower critical value and more than upper critical value then we reject the null hypothesis."
   ]
  },
  {
   "cell_type": "markdown",
   "id": "ef985148",
   "metadata": {},
   "source": [
    "The formulation of the null and alternate hypotheses determines the type of the test and the position of the critical regions in the normal distribution.\n",
    "\n",
    "You can tell the type of the test and the position of the critical region on the basis of the ‘sign’ in the alternate hypothesis.\n",
    "\n",
    "       ≠ in H₁    →   Two-tailed test        →     Rejection region on both sides of distribution\n",
    "       < in H₁    →   Lower-tailed test     →     Rejection region on left side of distribution\n",
    "       > in H₁    →   Upper-tailed test     →     Rejection region on right side of distribution"
   ]
  },
  {
   "cell_type": "markdown",
   "id": "1e09a919",
   "metadata": {},
   "source": [
    "### Steps to perform Hyposthesis Testing: "
   ]
  },
  {
   "cell_type": "markdown",
   "id": "0329050a",
   "metadata": {},
   "source": [
    "1. **Formulate the Hypotheses**\n",
    "The first step is to clearly define the null hypothesis (H₀) and the alternative hypothesis (H₁). \n",
    "    - `Null Hypothesis (H₀)`: There is no significant difference between the observed sample and the general population or between two samples.\n",
    "    - `Alternative Hypothesis (H₁)`: There is a significant difference or effect that is not due to chance alone.\n",
    "\n",
    "\n",
    "2. **Select the Significance Level (α)**\n",
    "The significance level (α) is the probability of rejecting the null hypothesis when it is actually true (Type I error). Commonly used α levels are 0.05 (5%) or 0.01 (1%).\n",
    "\n",
    "\n",
    "3. **Collect and Analyze Data**\n",
    "Data collection can be done through random sampling or experimental design. The data must be relevant to the hypotheses and collected in a way that minimizes bias. Once collected, the data is analyzed to summarize its main characteristics, often through descriptive statistics or visualizations.\n",
    "\n",
    "\n",
    "\n",
    "4. **Calculate the Test Statistic**\n",
    "The test statistic is a numerical value calculated from the sample data that, under the null hypothesis, follows a known distribution. The choice of test statistic depends on the nature of the data and the hypothesis being tested. Common tests include t-tests, z-tests, chi-square tests, and ANOVA, among others.\n",
    "\n",
    "\n",
    "5. **Determine the Critical Region or Calculate the P-value**\n",
    "    - `Critical Region`: This approach involves comparing the test statistic to critical values that define regions where the null hypothesis would be rejected. The critical values are determined based on the significance level and the distribution of the test statistic.\n",
    "    - `P-value`: Alternatively, the p-value approach calculates the probability of observing a test statistic as extreme as, or more extreme than, the value calculated from the sample data, assuming the null hypothesis is true. If the p-value is less than or equal to the significance level (α), the null hypothesis is rejected.\n",
    "    - **We prefer using the p-value method over the critical-region method.**\n",
    "\n",
    "6. **Make a Decision**\n",
    "    - If the test statistic falls within the critical region or the p-value is less than or equal to α, reject the null hypothesis in favor of the alternative hypothesis.\n",
    "    - If the test statistic does not fall within the critical region or the p-value is greater than α, do not reject the null hypothesis.\n",
    "\n",
    "\n",
    "7. **Draw Conclusions**\n",
    "Finally, interpret the results in the context of the original research question or business problem. This involves stating whether the findings support the alternative hypothesis and discussing the implications of the results for the problem at hand."
   ]
  },
  {
   "cell_type": "markdown",
   "id": "93411963",
   "metadata": {},
   "source": [
    "### Z-Test\n",
    "\n",
    "Jeep, a well-known car maker, claims that its car 'Compass' gives a mileage of at least 17 km/litre.\n",
    "\n",
    "- `Null Hypothesis` : μ ≥ 17\n",
    "- `Alternate Hypothesis` : μ < 17"
   ]
  },
  {
   "cell_type": "markdown",
   "id": "fbc9734f",
   "metadata": {},
   "source": [
    "Google claims that its internet browser ‘Chrome’ is the best in the industry, as it has an optimum boot time of only 250 ms, with a standard deviation of 9 ms. Sam, a tech geek, wanted to test the claim of Google. So, he randomly collected boot time data of 165 devices of Chrome and got a sample mean of 247 ms.\n",
    "\n",
    "- Ho: μ = 250, i.e., the mean boot time is 250 ms.\n",
    "- Ha: μ ≠ 250, i.e., the mean boot time is not 250 ms."
   ]
  },
  {
   "cell_type": "markdown",
   "id": "271e2047",
   "metadata": {},
   "source": [
    "For Z-Test these two conditions should be met: \n",
    "\n",
    "- Condition 1: n >30, which means that the population sample size should be greater than 30 observations.\n",
    "\n",
    "- Condition 2: 𝝈 is known, i.e., the population standard deviation is known.\n",
    "\n",
    "If any of these conditions are not met then `we use t-test`.\n",
    "\n",
    "The next step is to determine the test statistic. A test statistic, in simple terms, is a value that is to be calculated from some given data, which is then used to compare the results arrived at with the tabular values.\n",
    "\n",
    "The test statistic for a normal distribution or a Z-test is defined as:\n",
    "\n",
    "`Z = x−μ / σ/√n`\n",
    "\n",
    "x is the process mean, μ is the population mean, σ is the standard deviation and n is the sample size.\n",
    "\n",
    "Z = (247 - 250)/(9/√165)\n",
    "Z = -4.3\n",
    "\n",
    "We will now test our hypothesis at a 95% confidence level. For a 95% confidence interval, Z critical value = +1.96 and -1.96; these are the upper and lower critical values, respectively. The test statistic value we calculated is -4.3.\n",
    "\n",
    "The region between +1.96 and -1.96 is called the acceptance region, and the region outside it is called the critical region.\n",
    "\n",
    "If the calculated Z-statistic is in the region of acceptance, you fail to reject the null hypothesis. If the calculated Z-statistic lies outside the region of acceptance, i.e., in the critical region, you reject the null hypothesis.\n",
    "\n",
    "In our case, the test statistic value is -4.3, which lies outside the region of acceptance of ±1.96. So, you reject the null hypothesis."
   ]
  },
  {
   "cell_type": "code",
   "execution_count": 5,
   "id": "5e7cff1f",
   "metadata": {},
   "outputs": [
    {
     "name": "stdout",
     "output_type": "stream",
     "text": [
      "Z-statistic: -3.8851, p-value: 0.0001\n",
      "We have sufficient evidence to reject the null hypothesis.\n",
      "The mean boot time is 250ms.\n"
     ]
    }
   ],
   "source": [
    "from statsmodels.stats.weightstats import ztest\n",
    "import numpy as np\n",
    "\n",
    "boot_times = list(np.random.randint(180, 300, size = 165))\n",
    "\n",
    "# Perform one-sample Z-test\n",
    "z_statistic, p_value = ztest(boot_times, value=247)\n",
    "\n",
    "# Interpret the results\n",
    "if p_value < 0.05:\n",
    "    print(f\"Z-statistic: {z_statistic:.4f}, p-value: {p_value:.4f}\")\n",
    "    print(\"We have sufficient evidence to reject the null hypothesis.\")\n",
    "    print(\"The mean boot time is 250ms.\")\n",
    "else:\n",
    "    print(f\"Z-statistic: {z_statistic:.4f}, p-value: {p_value:.4f}\")\n",
    "    print(\"We do not have sufficient evidence to reject the null hypothesis.\")\n",
    "    print(\"The mean boot time is not 250ms but significantly different from 250ms.\")"
   ]
  },
  {
   "cell_type": "markdown",
   "id": "0354fc14",
   "metadata": {},
   "source": [
    "### T-test\n",
    "\n",
    "The t-distribution is kind of a normal distribution; it is also symmetric and single peaked but less concentrated around its peak. In layman’s terms, a t-distribution is shorter and flatter around the centre than a normal distribution. It is used to study the mean of a population that has a distribution fairly close to a normal distribution (but not an exact normal distribution).\n",
    "\n",
    "**Two simple conditions to determine when to use the t-statistic are as follows:**\n",
    "\n",
    "- The population standard deviation is unknown.\n",
    "- The sample size is less than 30.\n",
    "\n",
    "Even if one of them is applicable in a situation, you can comfortably go for a t-test. The formula to determine the t-statistic is:\n",
    "\n",
    "                            t = x–μ / s/√n\n"
   ]
  },
  {
   "cell_type": "markdown",
   "id": "4d2f11a4",
   "metadata": {},
   "source": [
    "The company claims that their new algorithm can process a specific dataset in an average of 20 minutes, which is faster than the current average processing time of 22 minutes using the standard algorithm. To validate this claim, a data scientist decides to conduct a t-test.\n",
    "The data scientist collects a sample of processing times using the new algorithm. The sample consists of 10 processing times (in minutes):\n",
    "\n",
    "Sample Data : 19,18,21,20,19,22,18,17,21,20\n",
    "\n",
    "The data scientist wants to test if the new algorithm significantly reduces the processing time compared to the standard average of 22 minutes. The hypothesis for the t-test would be set up as follows:\n",
    "- `Null Hypothesis (H₀)`: The mean processing time using the new algorithm is equal to or greater than 22 minutes. (μ≥22)\n",
    "- `Alternative Hypothesis (H₁)`: The mean processing time using the new algorithm is less than 22 minutes. (μ<22)"
   ]
  },
  {
   "cell_type": "markdown",
   "id": "0949d9b4",
   "metadata": {},
   "source": [
    "#### one-sample t-test"
   ]
  },
  {
   "cell_type": "code",
   "execution_count": 1,
   "id": "8d474f50",
   "metadata": {},
   "outputs": [],
   "source": [
    "from scipy.stats import ttest_1samp\n",
    "\n",
    "global_average_score = 22\n",
    "sample_scores = [19,18,21,20,19,22,18,17,21,20]\n",
    "\n",
    "t_stat, p_value = ttest_1samp(sample_scores, global_average_score)"
   ]
  },
  {
   "cell_type": "code",
   "execution_count": 2,
   "id": "41924506",
   "metadata": {},
   "outputs": [
    {
     "data": {
      "text/plain": [
       "0.0007389679098032424"
      ]
     },
     "execution_count": 2,
     "metadata": {},
     "output_type": "execute_result"
    }
   ],
   "source": [
    "p_value"
   ]
  },
  {
   "cell_type": "markdown",
   "id": "b667666c",
   "metadata": {},
   "source": [
    "The result of the t-test indicates that there is significant evidence to conclude that the new algorithm reduces the processing time for processing the datasets compared to the standard processing time of 22 minutes. Therefore, we can confidently claim that the new algorithm is more efficient."
   ]
  },
  {
   "cell_type": "markdown",
   "id": "ff520f91",
   "metadata": {},
   "source": [
    "#### two-sample t-test\n",
    "\n",
    "A two-sample t-test is often used to determine if there is a significant difference between the means of two groups. Let's consider a scenario where a company wants to test if a new training program improves employee productivity. The productivity scores (measured in units of work completed per day) of employees who underwent the training are compared to those who did not.\n",
    "\n",
    "**Hypothesis**\n",
    "- Null Hypothesis (): There is no difference in productivity between trained and untrained employees. \n",
    "- Alternative Hypothesis (): There is a difference in productivity between trained and untrained employees."
   ]
  },
  {
   "cell_type": "code",
   "execution_count": 6,
   "id": "327cbff8",
   "metadata": {},
   "outputs": [
    {
     "name": "stdout",
     "output_type": "stream",
     "text": [
      "T-statistic: 3.772968873135195\n",
      "P-value: 0.0061614896845513705\n"
     ]
    }
   ],
   "source": [
    "import numpy as np\n",
    "from scipy import stats\n",
    "\n",
    "# Sample data\n",
    "trained = np.array([10, 12, 11, 15, 14])\n",
    "untrained = np.array([8, 9, 7, 6, 10])\n",
    "\n",
    "# Calculate means and standard deviations\n",
    "mean_trained = np.mean(trained)\n",
    "mean_untrained = np.mean(untrained)\n",
    "std_trained = np.std(trained, ddof=1)  # ddof=1 for sample standard deviation\n",
    "std_untrained = np.std(untrained, ddof=1)\n",
    "\n",
    "# Sample sizes\n",
    "n_trained = len(trained)\n",
    "n_untrained = len(untrained)\n",
    "\n",
    "# Calculate t-statistic and degrees of freedom\n",
    "t_statistic, p_value = stats.ttest_ind(trained, untrained, equal_var=False)\n",
    "\n",
    "print(f\"T-statistic: {t_statistic}\")\n",
    "print(f\"P-value: {p_value}\")"
   ]
  },
  {
   "cell_type": "markdown",
   "id": "6e3fe224",
   "metadata": {},
   "source": [
    "This Python code uses the ttest_ind function from the scipy.stats module to perform a two-sample t-test assuming unequal variances (Welch's t-test). The equal_var=False parameter is set to handle cases where the two groups have different variances."
   ]
  },
  {
   "cell_type": "markdown",
   "id": "84194c06",
   "metadata": {},
   "source": [
    "#### Another Example of two sample t-test\n",
    "\n",
    "A dataset from a recent health survey that includes information on participants' gender (male or female) and their cholesterol levels (a quantitative variable). The data scientist wants to investigate whether there is a significant difference in the mean cholesterol levels between male and female participants."
   ]
  },
  {
   "cell_type": "code",
   "execution_count": 10,
   "id": "8b842bd1",
   "metadata": {},
   "outputs": [
    {
     "name": "stdout",
     "output_type": "stream",
     "text": [
      "T-statistic: -4.57495710997814\n",
      "P-value: 0.0018139585097282133\n"
     ]
    }
   ],
   "source": [
    "import numpy as np\n",
    "from scipy import stats\n",
    "\n",
    "gender = np.array([\"Male\", \"Female\", \"Female\", \"Male\", \"Female\", \"Male\", \"Male\", \n",
    "                   \"Female\", \"Male\", \"Female\"])\n",
    "\n",
    "cholesterol = np.array([200, 220, 210, 190, 205, 195, 180, 230, 175, 225])\n",
    "\n",
    "# Since the gender array contains categorical data, we need to separate the cholesterol data by gender\n",
    "male_cholesterol = cholesterol[gender == \"Male\"]\n",
    "female_cholesterol = cholesterol[gender == \"Female\"]\n",
    "\n",
    "# Perform the two-sample t-test\n",
    "t_stat, p_value = stats.ttest_ind(male_cholesterol, female_cholesterol)\n",
    "\n",
    "print(f\"T-statistic: {t_stat}\")\n",
    "print(f\"P-value: {p_value}\")"
   ]
  },
  {
   "cell_type": "markdown",
   "id": "12e0b5e4",
   "metadata": {},
   "source": [
    "The `ttest_ind` function is used to compare the means of two independent samples, which in this case are the cholesterol levels of males and females. The gender array is used to filter the cholesterol array into two groups: male_cholesterol and female_cholesterol."
   ]
  },
  {
   "cell_type": "markdown",
   "id": "b075b93f",
   "metadata": {},
   "source": [
    "### Chi-Squared Test\n",
    "\n",
    "**Chi-squared test of independence**: This is used to determine whether or not there is a significant relationship between two nominal (categorical) variables."
   ]
  },
  {
   "cell_type": "code",
   "execution_count": 1,
   "id": "baaf6a58",
   "metadata": {},
   "outputs": [],
   "source": [
    "import numpy as np\n",
    "from scipy.stats import chi2_contingency"
   ]
  },
  {
   "cell_type": "code",
   "execution_count": 2,
   "id": "22e3eb5a",
   "metadata": {},
   "outputs": [],
   "source": [
    "data = np.array([[30, 20], [40, 110]])"
   ]
  },
  {
   "cell_type": "code",
   "execution_count": 3,
   "id": "400c3fd7",
   "metadata": {},
   "outputs": [],
   "source": [
    "test_stat, p, dof, expvalue = chi2_contingency(data)"
   ]
  },
  {
   "cell_type": "code",
   "execution_count": 10,
   "id": "b8b28ad3",
   "metadata": {},
   "outputs": [
    {
     "data": {
      "text/plain": [
       "array([[17.5, 32.5],\n",
       "       [52.5, 97.5]])"
      ]
     },
     "execution_count": 10,
     "metadata": {},
     "output_type": "execute_result"
    }
   ],
   "source": [
    "expvalue"
   ]
  },
  {
   "cell_type": "code",
   "execution_count": 4,
   "id": "423f0538",
   "metadata": {},
   "outputs": [
    {
     "name": "stdout",
     "output_type": "stream",
     "text": [
      "16.879120879120876\n"
     ]
    }
   ],
   "source": [
    "print(test_stat)"
   ]
  },
  {
   "cell_type": "code",
   "execution_count": 8,
   "id": "8e0c39b1",
   "metadata": {},
   "outputs": [
    {
     "name": "stdout",
     "output_type": "stream",
     "text": [
      "p-value: 3.983738939937843e-05\n"
     ]
    }
   ],
   "source": [
    "print('p-value: '+ str(p))"
   ]
  },
  {
   "cell_type": "code",
   "execution_count": 9,
   "id": "bd96f20e",
   "metadata": {},
   "outputs": [
    {
     "name": "stdout",
     "output_type": "stream",
     "text": [
      "Reject Null Hypothesis\n"
     ]
    }
   ],
   "source": [
    "if p < 0.05:\n",
    "    print('Reject Null Hypothesis')\n",
    "else:\n",
    "    print('Failed to reject Null Hypothesis')"
   ]
  },
  {
   "cell_type": "markdown",
   "id": "8a2c0854",
   "metadata": {},
   "source": [
    "Finally, a Chi-Square test evaluates whether the observed contingency table is significantly different from the table that would be expected if there were no association between the variables."
   ]
  },
  {
   "cell_type": "markdown",
   "id": "87968691",
   "metadata": {},
   "source": [
    "### ANOVA (Analysis of Variance)\n",
    "\n",
    "ANOVA can determine whether the means of three or more groups are different. `ANOVA uses F-tests` to statistically test the equality of means.\n",
    "\n",
    "Two sample t-tests can validate a hypothesis containing only two groups at a time. For samples involving three or more groups, the t-test becomes tedious, as you have to perform the tests for each combination of the groups. Also, the `possibility of a type-1 error increases` in this process."
   ]
  },
  {
   "cell_type": "code",
   "execution_count": 7,
   "id": "5a4184f6",
   "metadata": {},
   "outputs": [
    {
     "name": "stdout",
     "output_type": "stream",
     "text": [
      "F-value: 104.16494845360837\n",
      "P-value: 2.6100383513609835e-08\n",
      "There is a statistically significant difference between the groups.\n"
     ]
    }
   ],
   "source": [
    "import scipy.stats as stats\n",
    "\n",
    "# Sample data: three groups with different values\n",
    "group1 = [20, 21, 19, 20, 22]\n",
    "group2 = [28, 32, 30, 29, 27]\n",
    "group3 = [35, 38, 40, 35, 36]\n",
    "\n",
    "# Perform the ANOVA test\n",
    "f_value, p_value = stats.f_oneway(group1, group2, group3)\n",
    "\n",
    "print(\"F-value:\", f_value)\n",
    "print(\"P-value:\", p_value)\n",
    "\n",
    "# Determine if the results are significant\n",
    "if p_value < 0.05:\n",
    "    print(\"There is a statistically significant difference between the groups.\")\n",
    "else:\n",
    "    print(\"There is no statistically significant difference between the groups.\")"
   ]
  },
  {
   "cell_type": "markdown",
   "id": "ee730f7f",
   "metadata": {},
   "source": [
    "In this example, group1, group2, and group3 represent three different samples with their respective values. These could be, for example, the blood pressure levels of patients under three different treatments, or any other set of quantitative data.\n",
    "\n",
    "The `f_oneway` function from the `scipy.stats module` is used to perform the `One-Way ANOVA` test. It calculates the `F-value and the P-value`. The `F-value is the test statistic`, and the P-value tells us whether the observed differences in means across the groups are statistically significant.\n",
    "\n",
    "The code then prints out the F-value and P-value. If the P-value is less than 0.05 (assuming a 5% significance level), we reject the null hypothesis and conclude that there is a significant difference in means between at least two of the groups. If the P-value is greater than 0.05, we fail to reject the null hypothesis and conclude that there is no significant difference in means between the groups.\n",
    "\n",
    "Remember, ANOVA tells us if `there's at least one significant difference` but doesn't specify where it is. If the test is significant, you would typically `follow up with post-hoc tests` to find out which specific groups differ from each other."
   ]
  },
  {
   "cell_type": "markdown",
   "id": "dc8937db",
   "metadata": {},
   "source": [
    "#### ANOVA and Tukey’s range test\n",
    "\n",
    "When the categorical variable has three or more categories, an ANOVA can be used to see if there is a significant difference between any of the groups. Then, if at least one pair of groups are significantly different, Tukey’s range test can be used to determine which groups are different. This is better than running multiple two-sample t-tests because it leads to a lower probability of making a type I error.\n",
    "\n",
    "For example, if we want to compare the heights of three different tree species, in order to test the hypothesis that average tree heights vary by species, we can use an ANOVA. Then, if the p-value from the ANOVA is below our significance threshold, we can run Tukey’s range test to determine which tree species have significantly different heights."
   ]
  },
  {
   "cell_type": "code",
   "execution_count": null,
   "id": "67044206",
   "metadata": {},
   "outputs": [],
   "source": [
    "# ANOVA Test\n",
    "from scipy.stats import f_oneway\n",
    "fstat, pval = f_oneway()\n",
    "\n",
    "# Tukey’s Range Test\n",
    "from statsmodels.stats.multicomp import pairwise_tukeyhsd\n",
    "tukey_results = pairwise_tukeyhsd(, 0.05)"
   ]
  },
  {
   "cell_type": "markdown",
   "id": "8c8d484b",
   "metadata": {},
   "source": [
    "### Binomial Test\n",
    "\n",
    "The Binomial test, also known as the Binomial exact test, is a statistical test used to determine whether the proportion of a binary outcome in a sample is significantly different from a hypothesized value. It is particularly useful when the sample size is small, and the data follows a binomial distribution, which is a distribution where there are only two possible outcomes for each trial, often labeled as \"success\" and \"failure\".\n",
    "\n",
    "The Null Hypothesis typically states that the population proportion of one outcome is equal to a specific hypothesized value, while the Alternative Hypothesis suggests that the population proportion is different from the hypothesized value.\n",
    "\n",
    "It does not produce a test statistic like many other tests; instead, the p-value is calculated directly from the binomial distribution.\n",
    "\n",
    "Can be used to analyze experimental results, such as the effectiveness of a new feature on a website, the success rate of a marketing campaign, or the reliability of a manufacturing process."
   ]
  },
  {
   "cell_type": "markdown",
   "id": "680d2945",
   "metadata": {},
   "source": [
    "**Example:** A website has a conversion rate of 5%. After introducing a new feature, out of 100 visitors, 8 converted.Is the new conversion rate significantly different from the old rate?"
   ]
  },
  {
   "cell_type": "code",
   "execution_count": 13,
   "id": "c6dc08a4",
   "metadata": {},
   "outputs": [
    {
     "name": "stdout",
     "output_type": "stream",
     "text": [
      "The p-value of the binomial test is: BinomTestResult(k=8, n=100, alternative='two-sided', statistic=0.08, pvalue=0.16504168794773402)\n"
     ]
    }
   ],
   "source": [
    "from scipy.stats import binomtest\n",
    "\n",
    "# Number of successes (conversions)\n",
    "k = 8\n",
    "# Number of trials (visitors)\n",
    "n = 100\n",
    "# Hypothesized probability of success (old conversion rate)\n",
    "p = 0.05\n",
    "\n",
    "# Perform the binomial test\n",
    "p_value = binomtest(k, n, p, alternative='two-sided')\n",
    "\n",
    "print(f\"The p-value of the binomial test is: {p_value}\")"
   ]
  },
  {
   "cell_type": "markdown",
   "id": "94c4429c",
   "metadata": {},
   "source": [
    "#### How to choose the Hypothesis Test"
   ]
  },
  {
   "cell_type": "markdown",
   "id": "c5ce47f5",
   "metadata": {},
   "source": [
    "![hypothesis_test](https://static-assets.codecademy.com/Courses/Hypothesis-Testing/article_graphic.png)"
   ]
  },
  {
   "cell_type": "markdown",
   "id": "52411737",
   "metadata": {},
   "source": [
    "Beyond choosing a hypothesis test, it is important to understand whether the data you have meets the assumptions of the test you want to run. Each hypothesis test has a unique set of assumptions, however, there is one assumption that all hypothesis tests share: the data was randomly sampled from the population of interest.\n",
    "\n",
    "This is important because random sampling ensures that the sample is representative of the population in terms of observed (and unobserved) characteristics. Unfortunately, there may be situations where random sampling is impossible, but it is important to understand how this can bias results of a test.\n",
    "\n",
    "For example, let’s return to the example with the yogurt company “The Dairy Culture”. Let’s say the company had multiple factories, but the quality assurance team only collected yogurts from one specific factory. The data is thus not randomly sampled from the entire population that we care about (all factories), and could be biased if the quality of yogurt differs at each one.\n",
    "\n",
    "There can also be ethical issues that arise when a sample is not representative of a population. When developing and testing a vaccine, for example, researchers must make sure to find volunteers from an appropriate proportion of genders, races, age ranges, pre-existing conditions, and so on to test efficacy for the entire population that the vaccine will be used on. If the vaccine manufacturers test on a sample that doesn’t include sufficient data for one race, there is a risk that there could be reduced (if during the initial research phase) or unknown efficacy for that group.\n",
    "\n",
    "It can often be challenging to find a representative sample or even to recognize when there is biased data, but it is essential to think about when designing an experiment."
   ]
  },
  {
   "cell_type": "code",
   "execution_count": null,
   "id": "6f9c4e49",
   "metadata": {},
   "outputs": [],
   "source": []
  }
 ],
 "metadata": {
  "kernelspec": {
   "display_name": "Python 3 (ipykernel)",
   "language": "python",
   "name": "python3"
  },
  "language_info": {
   "codemirror_mode": {
    "name": "ipython",
    "version": 3
   },
   "file_extension": ".py",
   "mimetype": "text/x-python",
   "name": "python",
   "nbconvert_exporter": "python",
   "pygments_lexer": "ipython3",
   "version": "3.11.7"
  }
 },
 "nbformat": 4,
 "nbformat_minor": 5
}
