{
 "cells": [
  {
   "cell_type": "code",
   "execution_count": 11,
   "id": "baa47e84",
   "metadata": {},
   "outputs": [],
   "source": [
    "import pandas as pd\n",
    "import numpy as np\n",
    "from scipy import stats\n",
    "import seaborn as sns\n",
    "import matplotlib.pyplot as plt"
   ]
  },
  {
   "cell_type": "markdown",
   "id": "22a54169",
   "metadata": {},
   "source": [
    "### <font color = 'green'>Measures of Central Tendency\n",
    "\n",
    "- Mean\n",
    "- Median\n",
    "- Mode"
   ]
  },
  {
   "cell_type": "code",
   "execution_count": 5,
   "id": "14ed9df4",
   "metadata": {},
   "outputs": [],
   "source": [
    "tips = sns.load_dataset('tips')"
   ]
  },
  {
   "cell_type": "code",
   "execution_count": 8,
   "id": "c4d318f9",
   "metadata": {},
   "outputs": [
    {
     "data": {
      "text/plain": [
       "<AxesSubplot:xlabel='total_bill', ylabel='Density'>"
      ]
     },
     "execution_count": 8,
     "metadata": {},
     "output_type": "execute_result"
    },
    {
     "data": {
      "image/png": "[encoded data removed]",
      "text/plain": [
       "<Figure size 432x288 with 1 Axes>"
      ]
     },
     "metadata": {
      "needs_background": "light"
     },
     "output_type": "display_data"
    }
   ],
   "source": [
    "# skewness in the graph indicates presence of outliers in the data\n",
    "sns.kdeplot(tips.total_bill)"
   ]
  },
  {
   "cell_type": "code",
   "execution_count": 9,
   "id": "df0fdc2f",
   "metadata": {},
   "outputs": [
    {
     "data": {
      "text/plain": [
       "19.785942622950824"
      ]
     },
     "execution_count": 9,
     "metadata": {},
     "output_type": "execute_result"
    }
   ],
   "source": [
    "#Average bill of the customers\n",
    "np.mean(tips.total_bill)"
   ]
  },
  {
   "cell_type": "code",
   "execution_count": 10,
   "id": "11fbf5b7",
   "metadata": {},
   "outputs": [
    {
     "data": {
      "text/plain": [
       "17.795"
      ]
     },
     "execution_count": 10,
     "metadata": {},
     "output_type": "execute_result"
    }
   ],
   "source": [
    "#Median bill of the customers\n",
    "np.median(tips.total_bill)"
   ]
  },
  {
   "cell_type": "markdown",
   "id": "34d2c2c6",
   "metadata": {},
   "source": [
    "The difference between mean and median shows that there are few outliers in the total_bill and we should trust median over mean in this case since mean is affected by the presence of outliers and hence they are not reliable measure of central tendency in the case of outliers present in the data"
   ]
  },
  {
   "cell_type": "code",
   "execution_count": 11,
   "id": "23f41921",
   "metadata": {},
   "outputs": [
    {
     "data": {
      "text/plain": [
       "ModeResult(mode=array(['Male'], dtype=object), count=array([157]))"
      ]
     },
     "execution_count": 11,
     "metadata": {},
     "output_type": "execute_result"
    }
   ],
   "source": [
    "stats.mode(tips.sex)"
   ]
  },
  {
   "cell_type": "markdown",
   "id": "ec5b7f27",
   "metadata": {},
   "source": [
    "We have more male customers visiting the restaurant"
   ]
  },
  {
   "cell_type": "markdown",
   "id": "f1a3fb66",
   "metadata": {},
   "source": [
    "### <font color = 'green'>Measures of Spread/Dispersion\n",
    "\n",
    "- Variance\n",
    "- Range \n",
    "- Standard Deviation\n",
    "- Interquartile Range"
   ]
  },
  {
   "cell_type": "code",
   "execution_count": 12,
   "id": "b527db35",
   "metadata": {},
   "outputs": [
    {
     "data": {
      "text/html": [
       "<div>\n",
       "<style scoped>\n",
       "    .dataframe tbody tr th:only-of-type {\n",
       "        vertical-align: middle;\n",
       "    }\n",
       "\n",
       "    .dataframe tbody tr th {\n",
       "        vertical-align: top;\n",
       "    }\n",
       "\n",
       "    .dataframe thead th {\n",
       "        text-align: right;\n",
       "    }\n",
       "</style>\n",
       "<table border=\"1\" class=\"dataframe\">\n",
       "  <thead>\n",
       "    <tr style=\"text-align: right;\">\n",
       "      <th></th>\n",
       "      <th>total_bill</th>\n",
       "      <th>tip</th>\n",
       "      <th>sex</th>\n",
       "      <th>smoker</th>\n",
       "      <th>day</th>\n",
       "      <th>time</th>\n",
       "      <th>size</th>\n",
       "    </tr>\n",
       "  </thead>\n",
       "  <tbody>\n",
       "    <tr>\n",
       "      <th>0</th>\n",
       "      <td>16.99</td>\n",
       "      <td>1.01</td>\n",
       "      <td>Female</td>\n",
       "      <td>No</td>\n",
       "      <td>Sun</td>\n",
       "      <td>Dinner</td>\n",
       "      <td>2</td>\n",
       "    </tr>\n",
       "    <tr>\n",
       "      <th>1</th>\n",
       "      <td>10.34</td>\n",
       "      <td>1.66</td>\n",
       "      <td>Male</td>\n",
       "      <td>No</td>\n",
       "      <td>Sun</td>\n",
       "      <td>Dinner</td>\n",
       "      <td>3</td>\n",
       "    </tr>\n",
       "    <tr>\n",
       "      <th>2</th>\n",
       "      <td>21.01</td>\n",
       "      <td>3.50</td>\n",
       "      <td>Male</td>\n",
       "      <td>No</td>\n",
       "      <td>Sun</td>\n",
       "      <td>Dinner</td>\n",
       "      <td>3</td>\n",
       "    </tr>\n",
       "    <tr>\n",
       "      <th>3</th>\n",
       "      <td>23.68</td>\n",
       "      <td>3.31</td>\n",
       "      <td>Male</td>\n",
       "      <td>No</td>\n",
       "      <td>Sun</td>\n",
       "      <td>Dinner</td>\n",
       "      <td>2</td>\n",
       "    </tr>\n",
       "    <tr>\n",
       "      <th>4</th>\n",
       "      <td>24.59</td>\n",
       "      <td>3.61</td>\n",
       "      <td>Female</td>\n",
       "      <td>No</td>\n",
       "      <td>Sun</td>\n",
       "      <td>Dinner</td>\n",
       "      <td>4</td>\n",
       "    </tr>\n",
       "  </tbody>\n",
       "</table>\n",
       "</div>"
      ],
      "text/plain": [
       "   total_bill   tip     sex smoker  day    time  size\n",
       "0       16.99  1.01  Female     No  Sun  Dinner     2\n",
       "1       10.34  1.66    Male     No  Sun  Dinner     3\n",
       "2       21.01  3.50    Male     No  Sun  Dinner     3\n",
       "3       23.68  3.31    Male     No  Sun  Dinner     2\n",
       "4       24.59  3.61  Female     No  Sun  Dinner     4"
      ]
     },
     "execution_count": 12,
     "metadata": {},
     "output_type": "execute_result"
    }
   ],
   "source": [
    "tips.head()"
   ]
  },
  {
   "cell_type": "code",
   "execution_count": 13,
   "id": "2070d815",
   "metadata": {},
   "outputs": [
    {
     "data": {
      "text/html": [
       "<div>\n",
       "<style scoped>\n",
       "    .dataframe tbody tr th:only-of-type {\n",
       "        vertical-align: middle;\n",
       "    }\n",
       "\n",
       "    .dataframe tbody tr th {\n",
       "        vertical-align: top;\n",
       "    }\n",
       "\n",
       "    .dataframe thead th {\n",
       "        text-align: right;\n",
       "    }\n",
       "</style>\n",
       "<table border=\"1\" class=\"dataframe\">\n",
       "  <thead>\n",
       "    <tr style=\"text-align: right;\">\n",
       "      <th></th>\n",
       "      <th>total_bill</th>\n",
       "      <th>tip</th>\n",
       "      <th>size</th>\n",
       "    </tr>\n",
       "  </thead>\n",
       "  <tbody>\n",
       "    <tr>\n",
       "      <th>count</th>\n",
       "      <td>244.000000</td>\n",
       "      <td>244.000000</td>\n",
       "      <td>244.000000</td>\n",
       "    </tr>\n",
       "    <tr>\n",
       "      <th>mean</th>\n",
       "      <td>19.785943</td>\n",
       "      <td>2.998279</td>\n",
       "      <td>2.569672</td>\n",
       "    </tr>\n",
       "    <tr>\n",
       "      <th>std</th>\n",
       "      <td>8.902412</td>\n",
       "      <td>1.383638</td>\n",
       "      <td>0.951100</td>\n",
       "    </tr>\n",
       "    <tr>\n",
       "      <th>min</th>\n",
       "      <td>3.070000</td>\n",
       "      <td>1.000000</td>\n",
       "      <td>1.000000</td>\n",
       "    </tr>\n",
       "    <tr>\n",
       "      <th>25%</th>\n",
       "      <td>13.347500</td>\n",
       "      <td>2.000000</td>\n",
       "      <td>2.000000</td>\n",
       "    </tr>\n",
       "    <tr>\n",
       "      <th>50%</th>\n",
       "      <td>17.795000</td>\n",
       "      <td>2.900000</td>\n",
       "      <td>2.000000</td>\n",
       "    </tr>\n",
       "    <tr>\n",
       "      <th>75%</th>\n",
       "      <td>24.127500</td>\n",
       "      <td>3.562500</td>\n",
       "      <td>3.000000</td>\n",
       "    </tr>\n",
       "    <tr>\n",
       "      <th>max</th>\n",
       "      <td>50.810000</td>\n",
       "      <td>10.000000</td>\n",
       "      <td>6.000000</td>\n",
       "    </tr>\n",
       "  </tbody>\n",
       "</table>\n",
       "</div>"
      ],
      "text/plain": [
       "       total_bill         tip        size\n",
       "count  244.000000  244.000000  244.000000\n",
       "mean    19.785943    2.998279    2.569672\n",
       "std      8.902412    1.383638    0.951100\n",
       "min      3.070000    1.000000    1.000000\n",
       "25%     13.347500    2.000000    2.000000\n",
       "50%     17.795000    2.900000    2.000000\n",
       "75%     24.127500    3.562500    3.000000\n",
       "max     50.810000   10.000000    6.000000"
      ]
     },
     "execution_count": 13,
     "metadata": {},
     "output_type": "execute_result"
    }
   ],
   "source": [
    "#statistical description of the tips data\n",
    "tips.describe()"
   ]
  },
  {
   "cell_type": "code",
   "execution_count": 14,
   "id": "512add30",
   "metadata": {},
   "outputs": [
    {
     "data": {
      "text/plain": [
       "78.92813148851113"
      ]
     },
     "execution_count": 14,
     "metadata": {},
     "output_type": "execute_result"
    }
   ],
   "source": [
    "#Total Variance in the total_bill data\n",
    "np.var(tips.total_bill)"
   ]
  },
  {
   "cell_type": "code",
   "execution_count": 15,
   "id": "56adf3d0",
   "metadata": {},
   "outputs": [
    {
     "data": {
      "text/plain": [
       "8.88415057777113"
      ]
     },
     "execution_count": 15,
     "metadata": {},
     "output_type": "execute_result"
    }
   ],
   "source": [
    "#Standard Deviation of the total bill\n",
    "np.std(tips.total_bill)"
   ]
  },
  {
   "cell_type": "markdown",
   "id": "e4c49df0",
   "metadata": {},
   "source": [
    "Standard Deviation of 8.9 means that a customer pays 8.9 dollars more or less than the average bill. But since our data has few outliers, so we will use IQR(Inter-Quartile Range) over Standard Deviation."
   ]
  },
  {
   "cell_type": "code",
   "execution_count": 16,
   "id": "7f26ee3a",
   "metadata": {},
   "outputs": [],
   "source": [
    "q1 = np.percentile(tips.total_bill, 25)\n",
    "q3 = np.percentile(tips.total_bill, 75)"
   ]
  },
  {
   "cell_type": "code",
   "execution_count": 17,
   "id": "718035f3",
   "metadata": {},
   "outputs": [],
   "source": [
    "iqr = q3 - q1"
   ]
  },
  {
   "cell_type": "code",
   "execution_count": 18,
   "id": "fc688564",
   "metadata": {},
   "outputs": [
    {
     "data": {
      "text/plain": [
       "10.779999999999998"
      ]
     },
     "execution_count": 18,
     "metadata": {},
     "output_type": "execute_result"
    }
   ],
   "source": [
    "iqr"
   ]
  },
  {
   "cell_type": "markdown",
   "id": "39e2cd37",
   "metadata": {},
   "source": [
    "### <font color = 'green'>Outlier Removal using IQR"
   ]
  },
  {
   "cell_type": "markdown",
   "id": "39ed37e3",
   "metadata": {},
   "source": [
    "Note: For now we will focus mainly on removing outlier from the total_bill column"
   ]
  },
  {
   "cell_type": "code",
   "execution_count": 23,
   "id": "26df1c98",
   "metadata": {},
   "outputs": [],
   "source": [
    "lower_fence = q1 - 1.5 * iqr\n",
    "upper_fence = q1 + 1.5 * iqr"
   ]
  },
  {
   "cell_type": "code",
   "execution_count": 27,
   "id": "a6fe82c5",
   "metadata": {},
   "outputs": [],
   "source": [
    "tips_copy = tips.copy()"
   ]
  },
  {
   "cell_type": "code",
   "execution_count": 28,
   "id": "10fabfe1",
   "metadata": {},
   "outputs": [],
   "source": [
    "#We keep only the values which are greater than lower fence and less than upper fence and drop the\n",
    "#values outside this range which are basically the outliers\n",
    "tips_copy = tips_copy[(tips_copy.total_bill >= lower_fence) & (tips_copy.total_bill <= upper_fence)]"
   ]
  },
  {
   "cell_type": "code",
   "execution_count": 29,
   "id": "b6af45ec",
   "metadata": {},
   "outputs": [
    {
     "data": {
      "text/plain": [
       "<AxesSubplot:xlabel='total_bill', ylabel='Density'>"
      ]
     },
     "execution_count": 29,
     "metadata": {},
     "output_type": "execute_result"
    },
    {
     "data": {
      "image/png": "[encoded data removed]",
      "text/plain": [
       "<Figure size 432x288 with 1 Axes>"
      ]
     },
     "metadata": {
      "needs_background": "light"
     },
     "output_type": "display_data"
    }
   ],
   "source": [
    "#data now looks more balanced/normal after outlier removal as compared to data with outliers\n",
    "sns.kdeplot(tips_copy.total_bill)"
   ]
  },
  {
   "cell_type": "code",
   "execution_count": 30,
   "id": "98bb08a0",
   "metadata": {},
   "outputs": [
    {
     "data": {
      "text/plain": [
       "<AxesSubplot:xlabel='total_bill', ylabel='Density'>"
      ]
     },
     "execution_count": 30,
     "metadata": {},
     "output_type": "execute_result"
    },
    {
     "data": {
      "image/png": "[encoded data removed]",
      "text/plain": [
       "<Figure size 432x288 with 1 Axes>"
      ]
     },
     "metadata": {
      "needs_background": "light"
     },
     "output_type": "display_data"
    }
   ],
   "source": [
    "#plot of skewed data with outlier, for comparison with above plot\n",
    "sns.kdeplot(tips.total_bill)"
   ]
  },
  {
   "cell_type": "markdown",
   "id": "cf26bcf6",
   "metadata": {},
   "source": [
    "### <font color = 'green'>Association between Variables(Columns)"
   ]
  },
  {
   "cell_type": "code",
   "execution_count": 19,
   "id": "186cfea3",
   "metadata": {},
   "outputs": [
    {
     "data": {
      "text/html": [
       "<div>\n",
       "<style scoped>\n",
       "    .dataframe tbody tr th:only-of-type {\n",
       "        vertical-align: middle;\n",
       "    }\n",
       "\n",
       "    .dataframe tbody tr th {\n",
       "        vertical-align: top;\n",
       "    }\n",
       "\n",
       "    .dataframe thead th {\n",
       "        text-align: right;\n",
       "    }\n",
       "</style>\n",
       "<table border=\"1\" class=\"dataframe\">\n",
       "  <thead>\n",
       "    <tr style=\"text-align: right;\">\n",
       "      <th></th>\n",
       "      <th>total_bill</th>\n",
       "      <th>tip</th>\n",
       "      <th>sex</th>\n",
       "      <th>smoker</th>\n",
       "      <th>day</th>\n",
       "      <th>time</th>\n",
       "      <th>size</th>\n",
       "    </tr>\n",
       "  </thead>\n",
       "  <tbody>\n",
       "    <tr>\n",
       "      <th>0</th>\n",
       "      <td>16.99</td>\n",
       "      <td>1.01</td>\n",
       "      <td>Female</td>\n",
       "      <td>No</td>\n",
       "      <td>Sun</td>\n",
       "      <td>Dinner</td>\n",
       "      <td>2</td>\n",
       "    </tr>\n",
       "    <tr>\n",
       "      <th>1</th>\n",
       "      <td>10.34</td>\n",
       "      <td>1.66</td>\n",
       "      <td>Male</td>\n",
       "      <td>No</td>\n",
       "      <td>Sun</td>\n",
       "      <td>Dinner</td>\n",
       "      <td>3</td>\n",
       "    </tr>\n",
       "    <tr>\n",
       "      <th>2</th>\n",
       "      <td>21.01</td>\n",
       "      <td>3.50</td>\n",
       "      <td>Male</td>\n",
       "      <td>No</td>\n",
       "      <td>Sun</td>\n",
       "      <td>Dinner</td>\n",
       "      <td>3</td>\n",
       "    </tr>\n",
       "    <tr>\n",
       "      <th>3</th>\n",
       "      <td>23.68</td>\n",
       "      <td>3.31</td>\n",
       "      <td>Male</td>\n",
       "      <td>No</td>\n",
       "      <td>Sun</td>\n",
       "      <td>Dinner</td>\n",
       "      <td>2</td>\n",
       "    </tr>\n",
       "    <tr>\n",
       "      <th>4</th>\n",
       "      <td>24.59</td>\n",
       "      <td>3.61</td>\n",
       "      <td>Female</td>\n",
       "      <td>No</td>\n",
       "      <td>Sun</td>\n",
       "      <td>Dinner</td>\n",
       "      <td>4</td>\n",
       "    </tr>\n",
       "  </tbody>\n",
       "</table>\n",
       "</div>"
      ],
      "text/plain": [
       "   total_bill   tip     sex smoker  day    time  size\n",
       "0       16.99  1.01  Female     No  Sun  Dinner     2\n",
       "1       10.34  1.66    Male     No  Sun  Dinner     3\n",
       "2       21.01  3.50    Male     No  Sun  Dinner     3\n",
       "3       23.68  3.31    Male     No  Sun  Dinner     2\n",
       "4       24.59  3.61  Female     No  Sun  Dinner     4"
      ]
     },
     "execution_count": 19,
     "metadata": {},
     "output_type": "execute_result"
    }
   ],
   "source": [
    "tips.head()"
   ]
  },
  {
   "cell_type": "markdown",
   "id": "36b0da70",
   "metadata": {},
   "source": [
    "#### <font color = 'blue'>Association between 2 numerical columns</font>\n",
    "\n",
    "**1. Pearson Correlation:**\n",
    "\n",
    "Pearson correlation measures the linear relationship between two continuous variables.\n",
    "It assumes that the relationship between the variables is linear and that the data follow a normal distribution.\n",
    "\n",
    "Pearson correlation coefficient (ρ) ranges from -1 to 1, where:\n",
    "- ρ=1 indicates a perfect positive linear relationship.\n",
    "- ρ=−1 indicates a perfect negative linear relationship.\n",
    "- ρ=0 indicates no linear relationship.\n",
    "\n",
    "It's sensitive to outliers and can be affected by non-linear relationships.\n",
    "\n",
    "**2. Spearman Rank Correlation:**\n",
    "\n",
    "Spearman’s rank correlation measures the strength and direction of association between two ranked variables. It basically gives the measure of monotonicity of the relation between two variables i.e. how well the relationship between two variables could be represented using a monotonic function.\n",
    "\n",
    "- Monotonically Increasing: As the variable X increases, the variable Y never decreases.\n",
    "- Monotonically Decreasing: As the variable X increases, the variable Y never increases.\n",
    "- Not Monotonic: As the X variable increases, the Y variable sometimes decreases and sometimes increases.\n",
    "\n",
    "It's based on the ranks of the data rather than the actual values.\n",
    "Spearman correlation coefficient (ρs) ranges from -1 to 1, where:\n",
    "\n",
    "- ρs = 1 indicates a perfect monotonic positive relationship.\n",
    "- ρs = −1 indicates a perfect monotonic negative relationship.\n",
    "- ρs = 0 indicates no monotonic relationship.\n",
    "\n",
    "It's less sensitive to outliers and non-linear relationships compared to Pearson correlation.\n",
    "It's suitable for ordinal or skewed data.\n",
    "\n",
    "**3. Kendall Rank Correlation:**\n",
    "\n",
    "Kendall correlation also measures the strength of the monotonic relationship between two variables.\n",
    "Like Spearman correlation, it's based on the ranks of the data.\n",
    "\n",
    "Kendall correlation coefficient (τ) ranges from -1 to 1, where:\n",
    "\n",
    "- τ=1 indicates a perfect monotonic positive relationship.\n",
    "- τ=−1 indicates a perfect monotonic negative relationship.\n",
    "- τ=0 indicates no monotonic relationship.\n",
    "\n",
    "It's less affected by outliers and is robust to non-linear relationships.\n",
    "It's often used when dealing with small sample sizes or tied ranks.\n",
    "\n",
    "**When to use which method:**\n",
    "\n",
    "- **`Pearson correlation:`** Use when both variables are continuous and the relationship is assumed to be linear and follow a normal distribution.\n",
    "- **`Spearman rank correlation:`** Use when the relationship is not necessarily linear, or when the data are ordinal or heavily skewed. It's more robust to outliers.\n",
    "- **`Kendall rank correlation:`** Use when the relationship is not necessarily linear and when dealing with small sample sizes or tied ranks. It's also robust to outliers."
   ]
  },
  {
   "cell_type": "code",
   "execution_count": 12,
   "id": "7637168c",
   "metadata": {},
   "outputs": [
    {
     "data": {
      "text/plain": [
       "<matplotlib.collections.PathCollection at 0x20ddbc5a0d0>"
      ]
     },
     "execution_count": 12,
     "metadata": {},
     "output_type": "execute_result"
    },
    {
     "data": {
      "image/png": "[encoded data removed]",
      "text/plain": [
       "<Figure size 640x480 with 1 Axes>"
      ]
     },
     "metadata": {},
     "output_type": "display_data"
    }
   ],
   "source": [
    "plt.scatter(tips.total_bill, tips.tip)"
   ]
  },
  {
   "cell_type": "code",
   "execution_count": 20,
   "id": "68d0f917",
   "metadata": {},
   "outputs": [
    {
     "data": {
      "text/plain": [
       "array([[79.25293861,  8.32350163],\n",
       "       [ 8.32350163,  1.91445464]])"
      ]
     },
     "execution_count": 20,
     "metadata": {},
     "output_type": "execute_result"
    }
   ],
   "source": [
    "#covariance amongst 2 numerical columns\n",
    "np.cov(tips.total_bill, tips.tip)"
   ]
  },
  {
   "cell_type": "markdown",
   "id": "e147da67",
   "metadata": {},
   "source": [
    "Note: Covariance between these 2 columns is 8.324"
   ]
  },
  {
   "cell_type": "code",
   "execution_count": 21,
   "id": "723f32f8",
   "metadata": {},
   "outputs": [
    {
     "data": {
      "text/plain": [
       "0.6757341092113646"
      ]
     },
     "execution_count": 21,
     "metadata": {},
     "output_type": "execute_result"
    }
   ],
   "source": [
    "#pearson correlation between 2 numerical columns\n",
    "tips['total_bill'].corr(tips['tip'])"
   ]
  },
  {
   "cell_type": "markdown",
   "id": "9611874b",
   "metadata": {},
   "source": [
    "So `total bill` and `tip paid by the customer` has moderate positive relation. In very simple terms it means that generally the customer with higher total bill tend to give more tip but this is not the case with all the customers."
   ]
  },
  {
   "cell_type": "code",
   "execution_count": 9,
   "id": "d6ca34ee",
   "metadata": {},
   "outputs": [
    {
     "name": "stdout",
     "output_type": "stream",
     "text": [
      "0.6757341092113642\n",
      "0.6789681219001009\n",
      "0.517180972142381\n"
     ]
    }
   ],
   "source": [
    "from scipy.stats import spearmanr, kendalltau, pearsonr\n",
    "\n",
    "#pearson correlation\n",
    "print(pearsonr(tips['total_bill'], tips['tip'])[0])\n",
    "\n",
    "#spearman rank correlation code\n",
    "print(spearmanr(tips['total_bill'], tips['tip'])[0])\n",
    "\n",
    "#kendall rank correlation\n",
    "print(kendalltau(tips['total_bill'], tips['tip'])[0])"
   ]
  },
  {
   "cell_type": "markdown",
   "id": "a36a7ef1",
   "metadata": {},
   "source": [
    "#### <font color = 'blue'>Association between 2 categorical columns"
   ]
  },
  {
   "cell_type": "markdown",
   "id": "85f8a547",
   "metadata": {},
   "source": [
    "We use contingency table to represent the relation between 2 categorical columns. For this purpose we use pd.crosstab functions and we pass two categorical columns for that."
   ]
  },
  {
   "cell_type": "code",
   "execution_count": 22,
   "id": "0f118168",
   "metadata": {},
   "outputs": [
    {
     "data": {
      "text/html": [
       "<div>\n",
       "<style scoped>\n",
       "    .dataframe tbody tr th:only-of-type {\n",
       "        vertical-align: middle;\n",
       "    }\n",
       "\n",
       "    .dataframe tbody tr th {\n",
       "        vertical-align: top;\n",
       "    }\n",
       "\n",
       "    .dataframe thead th {\n",
       "        text-align: right;\n",
       "    }\n",
       "</style>\n",
       "<table border=\"1\" class=\"dataframe\">\n",
       "  <thead>\n",
       "    <tr style=\"text-align: right;\">\n",
       "      <th>smoker</th>\n",
       "      <th>Yes</th>\n",
       "      <th>No</th>\n",
       "    </tr>\n",
       "    <tr>\n",
       "      <th>sex</th>\n",
       "      <th></th>\n",
       "      <th></th>\n",
       "    </tr>\n",
       "  </thead>\n",
       "  <tbody>\n",
       "    <tr>\n",
       "      <th>Male</th>\n",
       "      <td>60</td>\n",
       "      <td>97</td>\n",
       "    </tr>\n",
       "    <tr>\n",
       "      <th>Female</th>\n",
       "      <td>33</td>\n",
       "      <td>54</td>\n",
       "    </tr>\n",
       "  </tbody>\n",
       "</table>\n",
       "</div>"
      ],
      "text/plain": [
       "smoker  Yes  No\n",
       "sex            \n",
       "Male     60  97\n",
       "Female   33  54"
      ]
     },
     "execution_count": 22,
     "metadata": {},
     "output_type": "execute_result"
    }
   ],
   "source": [
    "pd.crosstab(tips.sex, tips.smoker)"
   ]
  },
  {
   "cell_type": "markdown",
   "id": "5b70e2fc",
   "metadata": {},
   "source": [
    "Above table indicates:\n",
    "- There were 60 male customers who were smokers and 97 of them were non-smoker.\n",
    "- There were 33 female customers who were smokers and 54 of them were non-smokers."
   ]
  },
  {
   "cell_type": "code",
   "execution_count": null,
   "id": "ab168714",
   "metadata": {},
   "outputs": [],
   "source": []
  }
 ],
 "metadata": {
  "kernelspec": {
   "display_name": "Python 3 (ipykernel)",
   "language": "python",
   "name": "python3"
  },
  "language_info": {
   "codemirror_mode": {
    "name": "ipython",
    "version": 3
   },
   "file_extension": ".py",
   "mimetype": "text/x-python",
   "name": "python",
   "nbconvert_exporter": "python",
   "pygments_lexer": "ipython3",
   "version": "3.11.7"
  }
 },
 "nbformat": 4,
 "nbformat_minor": 5
}
